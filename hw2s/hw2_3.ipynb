{
 "cells": [
  {
   "cell_type": "markdown",
   "metadata": {
    "deletable": true,
    "editable": true
   },
   "source": [
    "# HW 2\n",
    "\n",
    "Just generic python setup first, including some helper functions to help with degree-radians conversion, and solving quadratic equations"
   ]
  },
  {
   "cell_type": "code",
   "execution_count": 2,
   "metadata": {
    "collapsed": true,
    "deletable": true,
    "editable": true
   },
   "outputs": [],
   "source": [
    "import numpy as np\n",
    "from numpy import sin, cos, tan, arctan2, sqrt"
   ]
  },
  {
   "cell_type": "code",
   "execution_count": 3,
   "metadata": {
    "collapsed": false,
    "deletable": true,
    "editable": true
   },
   "outputs": [],
   "source": [
    "def rad(th):\n",
    "    return th * np.pi/180\n",
    "\n",
    "def deg(th):\n",
    "    return th * 180/np.pi\n",
    "\n",
    "def quadratic(a, b, c):\n",
    "    return ((-b + sqrt(b**2 - 4*a*c)) / (2*a),\n",
    "            (-b - sqrt(b**2 - 4*a*c)) / (2*a))"
   ]
  },
  {
   "cell_type": "markdown",
   "metadata": {
    "collapsed": true,
    "deletable": true,
    "editable": true
   },
   "source": [
    "## Problem 3\n",
    "\n",
    "Again, a sketch is a good start. It easy to calculate that in one hour at 250 mph, the plane flew 250 mi to get to point $B$, while its destination is really point $A$.\n",
    "\n",
    "![hw2s_3](hw2s_3.png)\n",
    "\n",
    "Since the triangle involving the origin and the two points $A$, $B$ happens to have a $90^\\circ$ angle, it'd actually be possible to just trigonometry directly. But let's do it the vector way. I'm using the position vectors $\\vec x_A$ and $\\vec x_B$ for the two points $A$, $B$. I can see from my sketch that\n",
    "\n",
    "$$\n",
    "\\vec x_B + \\Delta \\vec x = \\vec x_A\n",
    "$$\n",
    "\n",
    "Therefore the airplane still has to fly $\\Delta \\vec x$ to get to its destination, where\n",
    "$$\n",
    "\\Delta \\vec x = \\vec x_A - \\vec x_B\n",
    "$$\n",
    "\n",
    "In order to actually calculate that, I need to split the vectors into components:\n",
    "\\begin{align}\n",
    "\\vec x_A &= 300\\,\\text{mi}\\, (\\cos 45^\\circ \\hat i + \\sin 45^\\circ \\hat j)\\\\\n",
    "\\vec x_B &= 250\\,\\text{mi}\\, (-\\cos 45^\\circ \\hat i + \\sin 45^\\circ \\hat j)\\\\\n",
    "\\end{align}\n",
    "\n",
    "Python understands vectors, though it doesn't do unit vector notation, it just shows the two components of each vector:"
   ]
  },
  {
   "cell_type": "code",
   "execution_count": 18,
   "metadata": {
    "collapsed": false,
    "deletable": true,
    "editable": true
   },
   "outputs": [
    {
     "name": "stdout",
     "output_type": "stream",
     "text": [
      "x_A = [212.13203436 212.13203436]\n",
      "x_B = [-176.7766953  176.7766953]\n"
     ]
    }
   ],
   "source": [
    "x_A = np.array([300. * cos(rad(45)), 300. * sin(rad(45))])\n",
    "x_B = np.array([-250. * cos(rad(45)), 250. * sin(rad(45))])\n",
    "print(\"x_A = {}\\nx_B = {}\".format(x_A, x_B))"
   ]
  },
  {
   "cell_type": "code",
   "execution_count": 19,
   "metadata": {
    "collapsed": false,
    "deletable": true,
    "editable": true
   },
   "outputs": [
    {
     "name": "stdout",
     "output_type": "stream",
     "text": [
      "delta x = [388.90872965  35.35533906]\n"
     ]
    }
   ],
   "source": [
    "delta_x = x_A - x_B\n",
    "print(\"delta x = {}\".format(delta_x))"
   ]
  },
  {
   "cell_type": "markdown",
   "metadata": {
    "deletable": true,
    "editable": true
   },
   "source": [
    "So\n",
    "$$\n",
    "\\Delta\\vec x = 389 \\text{ mph } \\hat i + 35 \\text{ mph } \\hat j\n",
    "$$\n",
    "which still needs converting into magnitude and direction the usual way, using the Pythagorean Theorem and inverse tangent."
   ]
  },
  {
   "cell_type": "code",
   "execution_count": 25,
   "metadata": {
    "collapsed": false,
    "deletable": true,
    "editable": true
   },
   "outputs": [
    {
     "name": "stdout",
     "output_type": "stream",
     "text": [
      "distance = 390.512484, theta = 5.194429\n"
     ]
    }
   ],
   "source": [
    "d = sqrt(delta_x[0]**2 + delta_x[1]**2)\n",
    "th = deg(arctan2(delta_x[1], delta_x[0]))\n",
    "print(\"distance = {:f}, theta = {:f}\".format(d, th))"
   ]
  },
  {
   "cell_type": "markdown",
   "metadata": {
    "deletable": true,
    "editable": true
   },
   "source": [
    "Finally, we need to figure out how long it takes to go 390 miles at 250 mph.\n",
    "\n",
    "$$v = d / t \\Longrightarrow t = d/v$$"
   ]
  },
  {
   "cell_type": "code",
   "execution_count": 27,
   "metadata": {
    "collapsed": false,
    "deletable": true,
    "editable": true
   },
   "outputs": [
    {
     "name": "stdout",
     "output_type": "stream",
     "text": [
      "time = 1.562050 h = 93.722996 min\n"
     ]
    }
   ],
   "source": [
    "t = d / 250\n",
    "print(\"time = {:f} h = {:f} min\".format(t, t*60))"
   ]
  },
  {
   "cell_type": "markdown",
   "metadata": {
    "deletable": true,
    "editable": true
   },
   "source": [
    "So the plane has to fly for 94 minutes in the direction $5^\\circ$ N of E."
   ]
  },
  {
   "cell_type": "code",
   "execution_count": null,
   "metadata": {
    "collapsed": true,
    "deletable": true,
    "editable": true
   },
   "outputs": [],
   "source": []
  }
 ],
 "metadata": {
  "kernelspec": {
   "display_name": "Python 3",
   "language": "python",
   "name": "python3"
  },
  "language_info": {
   "codemirror_mode": {
    "name": "ipython",
    "version": 3
   },
   "file_extension": ".py",
   "mimetype": "text/x-python",
   "name": "python",
   "nbconvert_exporter": "python",
   "pygments_lexer": "ipython3",
   "version": "3.4.8"
  }
 },
 "nbformat": 4,
 "nbformat_minor": 2
}

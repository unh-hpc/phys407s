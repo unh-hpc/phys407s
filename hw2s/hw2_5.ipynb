{
 "cells": [
  {
   "cell_type": "markdown",
   "metadata": {
    "deletable": true,
    "editable": true
   },
   "source": [
    "# HW 2\n",
    "\n",
    "Just generic python setup first, including some helper functions to help with degree-radians conversion, and solving quadratic equations"
   ]
  },
  {
   "cell_type": "code",
   "execution_count": 1,
   "metadata": {
    "collapsed": true,
    "deletable": true,
    "editable": true
   },
   "outputs": [],
   "source": [
    "import numpy as np\n",
    "from numpy import sin, cos, tan, arctan2, sqrt"
   ]
  },
  {
   "cell_type": "code",
   "execution_count": 2,
   "metadata": {
    "collapsed": false,
    "deletable": true,
    "editable": true
   },
   "outputs": [],
   "source": [
    "def rad(th):\n",
    "    return th * np.pi/180\n",
    "\n",
    "def deg(th):\n",
    "    return th * 180/np.pi\n",
    "\n",
    "def quadratic(a, b, c):\n",
    "    return ((-b + sqrt(b**2 - 4*a*c)) / (2*a),\n",
    "            (-b - sqrt(b**2 - 4*a*c)) / (2*a))"
   ]
  },
  {
   "cell_type": "markdown",
   "metadata": {
    "collapsed": true,
    "deletable": true,
    "editable": true
   },
   "source": [
    "## Problem 5\n",
    "\n",
    "There's already a sketch that comes with the problem, so I'm using that.\n",
    "\n",
    "We know $\\theta = 60^\\circ$, $v_0 = 40$ m/s, $t_f = 5.5$ s, and the acceleration due to gravity."
   ]
  },
  {
   "cell_type": "code",
   "execution_count": 3,
   "metadata": {
    "collapsed": false,
    "deletable": true,
    "editable": true
   },
   "outputs": [],
   "source": [
    "th = rad(60.)\n",
    "v0 = 40.\n",
    "tf = 5.5\n",
    "g = 9.8"
   ]
  },
  {
   "cell_type": "markdown",
   "metadata": {
    "deletable": true,
    "editable": true
   },
   "source": [
    "We'll get to use most of our projectile motion equations:\n",
    "\\begin{align}\n",
    "x(t) &= v_{0x} t + x_0\\\\\n",
    "y(t) &= -\\frac{1}{2}gt^2 + v_{0y} t + y_0\\\\\n",
    "v_x(t) &= v_{0x}\\\\\n",
    "v_y(t) &= -gt + v_{0y}\n",
    "\\end{align}"
   ]
  },
  {
   "cell_type": "markdown",
   "metadata": {
    "deletable": true,
    "editable": true
   },
   "source": [
    "Putting the origin of the coordinate system at the launch point, $x_0 = y_0 = 0$. Now we can find where the rock ends up when it lands at $t_f$. We first have split the initial velocity into components, though."
   ]
  },
  {
   "cell_type": "code",
   "execution_count": 4,
   "metadata": {
    "collapsed": false,
    "deletable": true,
    "editable": true
   },
   "outputs": [
    {
     "name": "stdout",
     "output_type": "stream",
     "text": [
      "(x_f, y_f) = (110.000000, 42.300589)\n"
     ]
    }
   ],
   "source": [
    "x0 = 0\n",
    "y0 = 0\n",
    "v0x = v0 * cos(th)\n",
    "v0y = v0 * sin(th)\n",
    "def x(t): return v0x * t + y0\n",
    "def y(t): return -.5 * g * t**2 + v0y * t + y0\n",
    "\n",
    "print(\"(x_f, y_f) = ({:f}, {:f})\".format(x(tf), y(tf)))"
   ]
  },
  {
   "cell_type": "markdown",
   "metadata": {
    "deletable": true,
    "editable": true
   },
   "source": [
    "So we find $H = 42.3$m and $R = 110$ m. Let's find how fast it's going first:"
   ]
  },
  {
   "cell_type": "code",
   "execution_count": 5,
   "metadata": {
    "collapsed": false,
    "deletable": true,
    "editable": true
   },
   "outputs": [
    {
     "name": "stdout",
     "output_type": "stream",
     "text": [
      "vf = (20.000000, -19.258984) magnitude = 27.765238\n"
     ]
    }
   ],
   "source": [
    "def vy(t): return -g*t + v0y\n",
    "\n",
    "vfx, vfy = v0x, vy(tf)\n",
    "vf = sqrt(vfx**2 + vfy**2)\n",
    "\n",
    "print(\"vf = ({:f}, {:f}) magnitude = {:f}\".format(vfx, vfy, vf))"
   ]
  },
  {
   "cell_type": "markdown",
   "metadata": {
    "deletable": true,
    "editable": true
   },
   "source": [
    "So it's hitting the ground going 28 m/s.\n",
    "\n",
    "Finally, to get the maximum height, we can use the $y(t)$ formula, but we first need to find the proper time $t_{peak}$ when the stone reaches peak height. Realizing that before reaching peak height the stone is moving up, while afterwards it's moving down, we can use that right at the peak it's moving neither up nor down.\n",
    "\n",
    "\\begin{align}\n",
    "0 & = v_y(t_{peak})\\\\\n",
    " & = -g t_{peak} + v_{0y}\\\\\n",
    "\\end{align}\n",
    "\n",
    "We can solve this to find\n",
    "$$\n",
    "t_{peak} = \\frac{v_{0y}}{g}\n",
    "$$\n",
    "\n",
    "and plugging that time back into $y(t)$ we find the peak height $y_{max}$:\n",
    "\n",
    "\\begin{align}\n",
    "y_{max} &= y(t_{peak})\\\\\n",
    "&= -\\frac{1}{2}g\\left(\\frac{v_{0y}}{g}\\right)^2 + v_{0y} \\frac{v_{y0}}{g} + y_0\\\\\n",
    "&= \\frac{v_{0y}^2}{2g} + y_0\\\\\n",
    "\\end{align}\n",
    "\n",
    "Plug in numbers:"
   ]
  },
  {
   "cell_type": "code",
   "execution_count": 6,
   "metadata": {
    "collapsed": false,
    "deletable": true,
    "editable": true
   },
   "outputs": [
    {
     "name": "stdout",
     "output_type": "stream",
     "text": [
      "ymax = 61.224490\n"
     ]
    }
   ],
   "source": [
    "ymax = v0y**2 / (2*g) + y0\n",
    "print(\"ymax = {:f}\".format(ymax))"
   ]
  },
  {
   "cell_type": "markdown",
   "metadata": {
    "deletable": true,
    "editable": true
   },
   "source": [
    "The rock reaches a peak height of 61 m."
   ]
  },
  {
   "cell_type": "code",
   "execution_count": null,
   "metadata": {
    "collapsed": true,
    "deletable": true,
    "editable": true
   },
   "outputs": [],
   "source": []
  }
 ],
 "metadata": {
  "kernelspec": {
   "display_name": "Python 3",
   "language": "python",
   "name": "python3"
  },
  "language_info": {
   "codemirror_mode": {
    "name": "ipython",
    "version": 3
   },
   "file_extension": ".py",
   "mimetype": "text/x-python",
   "name": "python",
   "nbconvert_exporter": "python",
   "pygments_lexer": "ipython3",
   "version": "3.4.8"
  }
 },
 "nbformat": 4,
 "nbformat_minor": 2
}

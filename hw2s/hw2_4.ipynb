{
 "cells": [
  {
   "cell_type": "markdown",
   "metadata": {
    "deletable": true,
    "editable": true
   },
   "source": [
    "# HW 2\n",
    "## Problem 4\n",
    "\n",
    "Just generic python setup first, including some helper functions to help with degree-radians conversion, and solving quadratic equations"
   ]
  },
  {
   "cell_type": "code",
   "execution_count": 2,
   "metadata": {
    "collapsed": true,
    "deletable": true,
    "editable": true
   },
   "outputs": [],
   "source": [
    "import numpy as np\n",
    "from numpy import sin, cos, tan, arctan2, sqrt"
   ]
  },
  {
   "cell_type": "code",
   "execution_count": 3,
   "metadata": {
    "collapsed": false,
    "deletable": true,
    "editable": true
   },
   "outputs": [],
   "source": [
    "def rad(th):\n",
    "    return th * np.pi/180\n",
    "\n",
    "def deg(th):\n",
    "    return th * 180/np.pi\n",
    "\n",
    "def quadratic(a, b, c):\n",
    "    return ((-b + sqrt(b**2 - 4*a*c)) / (2*a),\n",
    "            (-b - sqrt(b**2 - 4*a*c)) / (2*a))"
   ]
  },
  {
   "cell_type": "markdown",
   "metadata": {
    "deletable": true,
    "editable": true
   },
   "source": [
    "The pilot wants to fly due northwest relative to the ground ($\\theta_G = 135^\\circ$). The airplane flies at an airspeed of $v_A = 250$ mph at an angle $\\theta_A$ to be determined. The wind is blowing in the direction $\\theta_W = 20^\\circ$ north of east at $v_W = 50$ mph.\n",
    "\n",
    "I'm using the subscripts G, A, W for ground, air and wind, respectively.\n",
    "\n",
    "Let's start by setting up some python variables for the known quantities:"
   ]
  },
  {
   "cell_type": "code",
   "execution_count": 4,
   "metadata": {
    "collapsed": true,
    "deletable": true,
    "editable": true
   },
   "outputs": [],
   "source": [
    "vw = 50.\n",
    "va = 250.\n",
    "thg = rad(135.)\n",
    "thw = rad(20.)"
   ]
  },
  {
   "cell_type": "markdown",
   "metadata": {
    "deletable": true,
    "editable": true
   },
   "source": [
    "Looking from the ground, the airplane is flying at its airspeed while also being pushed by the wind:\n",
    "\n",
    "$$\n",
    "\\vec v_G = \\vec v_A + \\vec v_W\n",
    "$$\n",
    "\n",
    "We can write this all out in components:\n",
    "\\begin{align}\n",
    "v_{Gx} & = v_G\\cos \\theta_G = v_A \\cos\\theta_A + v_W \\cos \\theta_W\\\\\n",
    "v_{Gy} & = v_G\\sin \\theta_G = v_A \\sin\\theta_A + v_W \\sin \\theta_W\\\\\n",
    "\\end{align}\n",
    "\n",
    "These are two equations for two unknowns ($\\theta_A$ and $v_G$), but they are a bit tricky to solve.\n",
    "My approach is to solve the two equations for the components of $v_A$, then square them and add them together, a which point $\\theta_A$ drops out because $\\cos^2\\theta_A + \\sin^2\\theta_A = 1$.\n",
    "\n",
    "$$\n",
    "\\begin{align}\n",
    "v_A \\cos\\theta_A &= v_G\\cos \\theta_G - v_W \\cos \\theta_W\\\\\n",
    "v_A \\sin\\theta_A &= v_G\\sin \\theta_G - v_W \\sin \\theta_W\\\\\n",
    "~\\\\\n",
    "\\Longrightarrow v_A^2 &= v_G^2 +v_W^2 - 2v_Gv_W(\\cos\\theta_G \\cos\\theta_W + \\sin\\theta_G \\sin\\theta_W)\n",
    "\\end{align}\n",
    "$$\n",
    "\n",
    "This is a quadratic equation for the unknown $v_G$:\n",
    "$$\n",
    "v_G^2 - 2v_W(\\cos\\theta_G \\cos\\theta_W + \\sin\\theta_G \\sin\\theta_W)v_G +v_W^2 - v_A^2 = 0\n",
    "$$\n",
    "\n",
    "This looks like $a v_G^2 + b v_G + c = 0$ with $a$, $b$, $c$ calculated in the python code below."
   ]
  },
  {
   "cell_type": "code",
   "execution_count": 5,
   "metadata": {
    "collapsed": false,
    "deletable": true,
    "editable": true
   },
   "outputs": [
    {
     "data": {
      "text/plain": [
       "(1, 42.26182617406994, -60000.0)"
      ]
     },
     "execution_count": 5,
     "metadata": {},
     "output_type": "execute_result"
    }
   ],
   "source": [
    "a = 1\n",
    "b = - 2*vw*(cos(thg)*cos(thw) + sin(thg)*sin(thw))\n",
    "c = vw**2 - va**2\n",
    "a,b,c"
   ]
  },
  {
   "cell_type": "markdown",
   "metadata": {
    "deletable": true,
    "editable": true
   },
   "source": [
    "So we can use the quadratic formula to get two possible solutions for $v_G$:"
   ]
  },
  {
   "cell_type": "code",
   "execution_count": 5,
   "metadata": {
    "collapsed": false,
    "deletable": true,
    "editable": true
   },
   "outputs": [
    {
     "data": {
      "text/plain": [
       "(224.72781766681038, -266.9896438408803)"
      ]
     },
     "execution_count": 5,
     "metadata": {},
     "output_type": "execute_result"
    }
   ],
   "source": [
    "vg_p, vg_m = quadratic(a, b, c)\n",
    "vg_p, vg_m"
   ]
  },
  {
   "cell_type": "markdown",
   "metadata": {
    "deletable": true,
    "editable": true
   },
   "source": [
    "We're looking for the positive solution (it's a speed, or put differently, the plane isn't supposed to fly backwards)."
   ]
  },
  {
   "cell_type": "code",
   "execution_count": 6,
   "metadata": {
    "collapsed": false,
    "deletable": true,
    "editable": true
   },
   "outputs": [
    {
     "data": {
      "text/plain": [
       "224.72781766681038"
      ]
     },
     "execution_count": 6,
     "metadata": {},
     "output_type": "execute_result"
    }
   ],
   "source": [
    "vg = vg_p\n",
    "vg"
   ]
  },
  {
   "cell_type": "markdown",
   "metadata": {
    "deletable": true,
    "editable": true
   },
   "source": [
    "Finally, we still need the angle $\\theta_A$ the plane is headed. We can get that by taking the two equations above for $v_A\\cos\\theta_A$ and $v_A\\sin\\theta_A$, dividing the 2nd equation by the first to get $\\tan\\theta_A$:\n",
    "$$\n",
    "\\tan\\theta_A = \\frac{v_A\\sin\\theta_A}{v_A\\cos\\theta_A} = \\frac{v_G\\sin\\theta_G - v_W\\sin\\theta_W}{v_G\\cos\\theta_G - v_W\\cos\\theta_W}\n",
    "$$\n",
    "Plugging in the numbers, taking the $\\arctan$ to get the actual angle and converting to degrees,"
   ]
  },
  {
   "cell_type": "code",
   "execution_count": 7,
   "metadata": {
    "collapsed": false,
    "deletable": true,
    "editable": true
   },
   "outputs": [
    {
     "data": {
      "text/plain": [
       "145.4432505774823"
      ]
     },
     "execution_count": 7,
     "metadata": {},
     "output_type": "execute_result"
    }
   ],
   "source": [
    "tha = arctan2(vg*sin(thg) - vw*sin(thw), vg*cos(thg) - vw*cos(thw))\n",
    "deg(tha)"
   ]
  },
  {
   "cell_type": "markdown",
   "metadata": {
    "deletable": true,
    "editable": true
   },
   "source": [
    "we find that the plane's heading should be $145^\\circ$ N of E, ie. $35^\\circ$ N of W."
   ]
  },
  {
   "cell_type": "code",
   "execution_count": null,
   "metadata": {
    "collapsed": true,
    "deletable": true,
    "editable": true
   },
   "outputs": [],
   "source": []
  }
 ],
 "metadata": {
  "kernelspec": {
   "display_name": "Python 3",
   "language": "python",
   "name": "python3"
  },
  "language_info": {
   "codemirror_mode": {
    "name": "ipython",
    "version": 3
   },
   "file_extension": ".py",
   "mimetype": "text/x-python",
   "name": "python",
   "nbconvert_exporter": "python",
   "pygments_lexer": "ipython3",
   "version": "3.4.8"
  }
 },
 "nbformat": 4,
 "nbformat_minor": 2
}

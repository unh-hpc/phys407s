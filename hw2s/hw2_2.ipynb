{
 "cells": [
  {
   "cell_type": "markdown",
   "metadata": {
    "deletable": true,
    "editable": true
   },
   "source": [
    "# HW 2\n",
    "\n",
    "Just generic python setup first, including some helper functions to help with degree-radians conversion, and solving quadratic equations"
   ]
  },
  {
   "cell_type": "code",
   "execution_count": 1,
   "metadata": {
    "collapsed": true,
    "deletable": true,
    "editable": true
   },
   "outputs": [],
   "source": [
    "import numpy as np\n",
    "from numpy import sin, cos, tan, arctan2, sqrt"
   ]
  },
  {
   "cell_type": "code",
   "execution_count": 2,
   "metadata": {
    "collapsed": false,
    "deletable": true,
    "editable": true
   },
   "outputs": [],
   "source": [
    "def rad(th):\n",
    "    return th * np.pi/180\n",
    "\n",
    "def deg(th):\n",
    "    return th * 180/np.pi\n",
    "\n",
    "def quadratic(a, b, c):\n",
    "    return ((-b + sqrt(b**2 - 4*a*c)) / (2*a),\n",
    "            (-b - sqrt(b**2 - 4*a*c)) / (2*a))"
   ]
  },
  {
   "cell_type": "markdown",
   "metadata": {
    "collapsed": true,
    "deletable": true,
    "editable": true
   },
   "source": [
    "## Problem 2\n",
    "\n",
    "There's already a sketch, so let's put in the distances we know, and the ones we want to find, calling the height of the giraffe $H$, and the distance to the giraffe $L$.\n",
    "\n",
    "![hw2s_2](hw2s_2.png)\n",
    "\n",
    "The main trick is to realize that there are two similar triangles (ie, they have the same angles, though one is larger than the other): The triangle involving the head of the person, the top of the lamp, and the point 6' above the base of the lamp, and the triangle from the head of the person to the top of the giraffe, to the point 6' above the feet of the giraffe.\n",
    "\n",
    "At this point, one can just use that the ratio of two sides in one triangle is equal to the ratio of the corresponding two sides in the other triangle. (One could also more explicitly use trig, which says that $\\tan \\theta$ is equal to the ratio of opposite to adjacent side in both triangles, so those two ratios are equal.\n",
    "\n",
    "$$\\frac{L}{H-6'} = \\frac{8'}{10'-6'}$$\n",
    "\n",
    "Solve for $L$:\n",
    "\n",
    "$$L = 8'\\frac{H-6'}{4'}$$\n",
    "\n",
    "Plugging in the min (16') and max (20') height for the giraffe:\n"
   ]
  },
  {
   "cell_type": "code",
   "execution_count": 3,
   "metadata": {
    "collapsed": false,
    "deletable": true,
    "editable": true
   },
   "outputs": [
    {
     "name": "stdout",
     "output_type": "stream",
     "text": [
      "distance L = 20.000000 to 28.000000\n"
     ]
    }
   ],
   "source": [
    "def L(H): return 8. * (H-6.)/4.\n",
    "print(\"distance L = {:f} to {:f}\".format(L(16), L(20)))"
   ]
  },
  {
   "cell_type": "markdown",
   "metadata": {
    "deletable": true,
    "editable": true
   },
   "source": [
    "we get that giraffe is between 20 and 28 feet away from the person."
   ]
  },
  {
   "cell_type": "code",
   "execution_count": null,
   "metadata": {
    "collapsed": true,
    "deletable": true,
    "editable": true
   },
   "outputs": [],
   "source": []
  }
 ],
 "metadata": {
  "kernelspec": {
   "display_name": "Python 3",
   "language": "python",
   "name": "python3"
  },
  "language_info": {
   "codemirror_mode": {
    "name": "ipython",
    "version": 3
   },
   "file_extension": ".py",
   "mimetype": "text/x-python",
   "name": "python",
   "nbconvert_exporter": "python",
   "pygments_lexer": "ipython3",
   "version": "3.4.8"
  }
 },
 "nbformat": 4,
 "nbformat_minor": 2
}

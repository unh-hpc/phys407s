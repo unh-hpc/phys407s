{
 "cells": [
  {
   "cell_type": "markdown",
   "metadata": {},
   "source": [
    "# Finding derivatives: From average velocity to instantanteous velocity\n",
    "\n",
    "## How to use this notebook\n",
    "\n",
    "You're looking at a [Jupyter notebook](http://jupyter.org/) (click the link if you care to learn more). Since you're looking at it, apparently you got it running -- good! A notebook consists of multiple cells. Some contain only text, like this one.\n",
    "\n",
    "Other cells contain code, which can be run, and which then (typically) produces some output. The cell below just does a lot of setup, which needs to be run first for the later parts to work. So click on the cell below to activate it (it will get a green frame), and to execute it, either hit \"Shift-Enter\", or click on the \"Run\" button above in the toolbar.\n",
    "\n",
    "Then read on in the next cell below."
   ]
  },
  {
   "cell_type": "code",
   "execution_count": null,
   "metadata": {
    "collapsed": false,
    "deletable": true,
    "editable": true
   },
   "outputs": [],
   "source": [
    "%matplotlib inline\n",
    "%config InlineBackend.figure_format = 'retina'\n",
    "import numpy as np\n",
    "import matplotlib\n",
    "import matplotlib.pyplot as plt\n",
    "import itertools\n",
    "\n",
    "matplotlib.rcParams['figure.figsize'] = (12, 10)\n",
    "matplotlib.rcParams['axes.labelsize'] = 20\n",
    "matplotlib.rcParams['font.size'] = 16\n",
    "\n",
    "def make_plot(x, T_min=0, T_max=2, t0=None, delta_t=0.5):\n",
    "    N = 101\n",
    "    h = (T_max - T_min) / 5\n",
    "    tt = np.linspace(T_min, T_max, N)\n",
    "    cmap = plt.get_cmap('jet_r')\n",
    "    #plt.xlim(T_min, T_max)\n",
    "    #plt.ylim(x(T_min), x(T_max))\n",
    "\n",
    "    if not isinstance(delta_t, list):\n",
    "        delta_t = [delta_t]\n",
    "\n",
    "    if t0 is not None:\n",
    "        for i, dt in enumerate(delta_t):\n",
    "            t1 = t0 + dt\n",
    "            v = (x(t1) - x(t0)) / (t1 - t0)\n",
    "            pts, = plt.plot([t0, t1], [x(t0), x(t1)], \"o\")\n",
    "            plt.plot([t0-h, t1+h], [v*(-h) + x(t0), v*(dt+h) + x(t0)], \"-\", c=pts.get_color(),\n",
    "                     label=\"delta_t = {:.03f}: slope = {:.03f}\".format(dt, v))\n",
    "        plt.legend()\n",
    "\n",
    "    plt.plot(tt, [x(t) for t in tt], '-k', lw=2)\n",
    "    plt.ylabel(\"x\")\n",
    "    plt.xlabel(\"t\")\n",
    "\n"
   ]
  },
  {
   "cell_type": "markdown",
   "metadata": {},
   "source": [
    "## Calculating the average slope\n",
    "\n",
    "A computer typically isn't capable of actually calculating the exact instantaneous slope (the slope of the tangent to the curve). But it can calculate average slope over a very short time interval easily, which is almost the same.\n",
    "\n",
    "The next cell below defines a function:\n",
    "$$\n",
    "x(t) = t^2\n",
    "$$\n",
    "and then makes a plot of that function. (Note that this is all written in Python, a programming language. You can recognize the `x(t)` part, and the `t**2` part, where the latter is how you write \"to the power of\" in Python).\n",
    "\n",
    "### Making the plot\n",
    "\n",
    "Execute the next cell (click on it, then hit Shift-Enter) to see."
   ]
  },
  {
   "cell_type": "code",
   "execution_count": null,
   "metadata": {
    "collapsed": false,
    "deletable": true,
    "editable": true
   },
   "outputs": [],
   "source": [
    "def x(t):\n",
    "    return t**2\n",
    "\n",
    "make_plot(x)"
   ]
  },
  {
   "cell_type": "markdown",
   "metadata": {},
   "source": [
    "### Finding the (average) slope\n",
    "\n",
    "To find the (average) slope of the graph, you just need to specify, at what point in time $t_0$ (`t0`) you want that slope, and over how long it is average: $\\Delta t$ (delta_t). So let's do that.\n",
    "\n",
    "(It's not actually necessary to define the function $x(t)$ again here, but it doesn't hurt, and it may help to avoid some confusion.)"
   ]
  },
  {
   "cell_type": "code",
   "execution_count": null,
   "metadata": {
    "collapsed": false
   },
   "outputs": [],
   "source": [
    "def x(t):\n",
    "    return t**2\n",
    "\n",
    "make_plot(x, t0=1, delta_t=0.5)"
   ]
  },
  {
   "cell_type": "markdown",
   "metadata": {},
   "source": [
    "So far so good. You can see the straight line marking the average slope between the points $t_0 = 1$ and $t + \\Delta t = 1.5$. The legend also tells you what slope the program actually calculated for that line.\n",
    "\n",
    "It turns out that this line is actually a bit too steep to match the true slope of the graph at $t_0 = 1$. If we make $\\Delta t$ smaller, we'll get closer to the true answer."
   ]
  },
  {
   "cell_type": "code",
   "execution_count": null,
   "metadata": {
    "collapsed": false
   },
   "outputs": [],
   "source": [
    "def x(t):\n",
    "    return t**2\n",
    "\n",
    "make_plot(x, t0=1, delta_t=0.1)"
   ]
  },
  {
   "cell_type": "markdown",
   "metadata": {},
   "source": [
    "It's your turn to try to find the true slope. You can copy & paste the code from above, and then change it, or you can just change it in the cell above. It's also possible to have the computer calculate the slopes for multiple $\\Delta t$ at once, in case you find that useful:"
   ]
  },
  {
   "cell_type": "code",
   "execution_count": null,
   "metadata": {
    "collapsed": false
   },
   "outputs": [],
   "source": [
    "def x(t):\n",
    "    return t**2\n",
    "\n",
    "make_plot(x, t0=1, delta_t=[0.5, 0.1])"
   ]
  },
  {
   "cell_type": "markdown",
   "metadata": {},
   "source": [
    "If you feel like you'd like to zoom into what's happening, that's possible, too."
   ]
  },
  {
   "cell_type": "code",
   "execution_count": null,
   "metadata": {
    "collapsed": false
   },
   "outputs": [],
   "source": [
    "def x(t):\n",
    "    return t**2\n",
    "\n",
    "make_plot(x, t0=1, delta_t=[0.1], T_min=.9, T_max=1.2)"
   ]
  },
  {
   "cell_type": "markdown",
   "metadata": {},
   "source": [
    "Finally, you can of course change your function, too:"
   ]
  },
  {
   "cell_type": "code",
   "execution_count": null,
   "metadata": {
    "collapsed": false
   },
   "outputs": [],
   "source": [
    "def x(t):\n",
    "    return 100 - 5 * t**2\n",
    "\n",
    "make_plot(x, t0=1, delta_t=[0.1])"
   ]
  },
  {
   "cell_type": "code",
   "execution_count": null,
   "metadata": {
    "collapsed": true
   },
   "outputs": [],
   "source": []
  }
 ],
 "metadata": {
  "kernelspec": {
   "display_name": "Python 3",
   "language": "python",
   "name": "python3"
  },
  "language_info": {
   "codemirror_mode": {
    "name": "ipython",
    "version": 3
   },
   "file_extension": ".py",
   "mimetype": "text/x-python",
   "name": "python",
   "nbconvert_exporter": "python",
   "pygments_lexer": "ipython3",
   "version": "3.4.7"
  }
 },
 "nbformat": 4,
 "nbformat_minor": 2
}

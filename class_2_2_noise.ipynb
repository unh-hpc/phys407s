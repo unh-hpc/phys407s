{
 "cells": [
  {
   "cell_type": "markdown",
   "metadata": {},
   "source": [
    "# The effect on noise on motion detector measurements"
   ]
  },
  {
   "cell_type": "code",
   "execution_count": null,
   "metadata": {
    "collapsed": false,
    "deletable": true,
    "editable": true
   },
   "outputs": [],
   "source": [
    "%matplotlib inline\n",
    "%config InlineBackend.figure_format = 'retina'\n",
    "import numpy as np\n",
    "import matplotlib\n",
    "import matplotlib.pyplot as plt\n",
    "\n",
    "import pandas as pd\n",
    "\n",
    "from matplotlib import rc\n",
    "matplotlib.rcParams['figure.figsize'] = (12, 10)\n",
    "matplotlib.rcParams['axes.labelsize'] = 20\n",
    "matplotlib.rcParams['font.size'] = 16"
   ]
  },
  {
   "cell_type": "markdown",
   "metadata": {},
   "source": [
    "## Let's define a nice smooth function of position vs time\n",
    "\n",
    "What I'm using is\n",
    "$$\n",
    "x(t) = 10 + \\frac{1}{2}2t^2\n",
    "$$\n",
    "because, why not..."
   ]
  },
  {
   "cell_type": "code",
   "execution_count": null,
   "metadata": {
    "collapsed": false
   },
   "outputs": [],
   "source": [
    "def x(t): return 10 + .5 * 2*t**2\n",
    "\n",
    "T = np.linspace(0, 5, 21)\n",
    "df = pd.DataFrame([x(t) for t in T], T, [\"x\"])\n",
    "df"
   ]
  },
  {
   "cell_type": "markdown",
   "metadata": {},
   "source": [
    "### Plot of the smooth function\n",
    "\n",
    "Looks smooth, indeed.."
   ]
  },
  {
   "cell_type": "code",
   "execution_count": null,
   "metadata": {
    "collapsed": false,
    "deletable": true,
    "editable": true
   },
   "outputs": [],
   "source": [
    "df.plot(marker=\"o\");"
   ]
  },
  {
   "cell_type": "markdown",
   "metadata": {},
   "source": [
    "### Add some noise and plot the slightly noisy data\n",
    "\n",
    "One can play with different levels of noise. A level of $\\pm 1\\times 10^{-2}$ is rather small compared to the smooth original values of order $10$. So small that on the plot one cannot distinguish the noisy from the original data"
   ]
  },
  {
   "cell_type": "code",
   "execution_count": null,
   "metadata": {
    "collapsed": false
   },
   "outputs": [],
   "source": [
    "df[\"x_noise\"] = df[\"x\"] + 1e-2*(2*np.random.rand(len(df)) - 1.)\n",
    "df.plot(marker=\"o\");"
   ]
  },
  {
   "cell_type": "markdown",
   "metadata": {},
   "source": [
    "### Plot approximate velocity calculated from the original and noisy data, respectively"
   ]
  },
  {
   "cell_type": "code",
   "execution_count": null,
   "metadata": {
    "collapsed": false
   },
   "outputs": [],
   "source": [
    "df[\"v\"] = df.diff()[\"x\"] / (df.index[1] - df.index[0])\n",
    "df[\"v_noise\"] = df.diff()[\"x_noise\"] / (df.index[1] - df.index[0])\n",
    "df.plot(marker=\"o\")"
   ]
  },
  {
   "cell_type": "markdown",
   "metadata": {},
   "source": [
    "### Plot approximate acceleration calculated from the original and noisy data, respectively\n"
   ]
  },
  {
   "cell_type": "code",
   "execution_count": null,
   "metadata": {
    "collapsed": false
   },
   "outputs": [],
   "source": [
    "df[\"a\"] = df.diff()[\"v\"] / (df.index[1] - df.index[0])\n",
    "df[\"a_noise\"] = df.diff()[\"v_noise\"] / (df.index[1] - df.index[0])\n",
    "df[[\"a\", \"a_noise\"]].plot(marker=\"o\")"
   ]
  },
  {
   "cell_type": "code",
   "execution_count": null,
   "metadata": {
    "collapsed": true
   },
   "outputs": [],
   "source": []
  }
 ],
 "metadata": {
  "kernelspec": {
   "display_name": "Python 3",
   "language": "python",
   "name": "python3"
  },
  "language_info": {
   "codemirror_mode": {
    "name": "ipython",
    "version": 3
   },
   "file_extension": ".py",
   "mimetype": "text/x-python",
   "name": "python",
   "nbconvert_exporter": "python",
   "pygments_lexer": "ipython3",
   "version": "3.4.8"
  }
 },
 "nbformat": 4,
 "nbformat_minor": 2
}

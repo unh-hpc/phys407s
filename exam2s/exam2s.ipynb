{
 "cells": [
  {
   "cell_type": "markdown",
   "metadata": {
    "deletable": true,
    "editable": true
   },
   "source": [
    "# Exam 2\n",
    "\n",
    "Just generic python setup first, including some helper functions to help with degree-radians conversion, and solving quadratic equations"
   ]
  },
  {
   "cell_type": "code",
   "execution_count": 1,
   "metadata": {
    "collapsed": true,
    "deletable": true,
    "editable": true
   },
   "outputs": [],
   "source": [
    "import numpy as np\n",
    "from numpy import sin, cos, tan, arctan2, sqrt"
   ]
  },
  {
   "cell_type": "code",
   "execution_count": 2,
   "metadata": {
    "collapsed": false,
    "deletable": true,
    "editable": true
   },
   "outputs": [],
   "source": [
    "def rad(th):\n",
    "    return th * np.pi/180\n",
    "\n",
    "def deg(th):\n",
    "    return th * 180/np.pi\n",
    "\n",
    "def quadratic(a, b, c):\n",
    "    return ((-b + sqrt(b**2 - 4*a*c)) / (2*a),\n",
    "            (-b - sqrt(b**2 - 4*a*c)) / (2*a))"
   ]
  },
  {
   "cell_type": "markdown",
   "metadata": {
    "collapsed": true,
    "deletable": true,
    "editable": true
   },
   "source": [
    "## Problem 1\n",
    "\n",
    "* (a) equal (because $a = 0$)\n",
    "* (b) equal (third law pair)\n",
    "* (c) less than (because $a < 0$, ie, downward)\n",
    "* (d) equal (third law pair)\n",
    "* (e) unknown (because only $v$ is known, but not $a$. E.g., down at constant speed would meean $a = 0$, so forces are equal, but it could also be that it's going downward while speeding up or slowing down.\n",
    "* (f) equal (third law pair)\n",
    "\n",
    "\n",
    "\n",
    "\n",
    "\n"
   ]
  },
  {
   "cell_type": "markdown",
   "metadata": {
    "collapsed": true,
    "deletable": true,
    "editable": true
   },
   "source": [
    "## Problem 2\n",
    "### Part a)\n",
    "\n",
    "Gravity and normal force act on the passenger. At the top of the loop, they both point straight down, so I'll make that my positive direction.\n",
    "\n",
    "[One should draw a FBD]\n",
    "\n",
    "Acceleration is centripetal acceleration because the roller coaster is moving on a circular track (and at that point neither slowing down nor speeding up).\n",
    "\n",
    "$$\n",
    "m\\frac{v^2}{R} = ma = F_{net} = mg + F_N\n",
    "$$\n",
    "\n",
    "From this equation one can tell that the larger the speed, the larger the normal force has to be (makes sense, getting pushed into the seat), since $mg$ doesn't change. However, as $v$ becomes slower and slower, $F_N$ would have to become negative, which it cannot. (A reasonable passenger, however, would probably try to hold on to the roller coaster car and might be able to pull himself up (negative force given my choice of direction)). But if you don't do this, $F_N = 0$ is where you become weightless and just about don't fall out.\n",
    "\n",
    "$$\n",
    "m\\frac{v^2}{R} = mg \\Longrightarrow\n",
    "v = \\sqrt{Rg}\n",
    "$$\n",
    "\n",
    "Let's put in the numbers:"
   ]
  },
  {
   "cell_type": "code",
   "execution_count": 3,
   "metadata": {
    "collapsed": false
   },
   "outputs": [
    {
     "name": "stdout",
     "output_type": "stream",
     "text": [
      "v = 9.899495 m/s\n"
     ]
    }
   ],
   "source": [
    "R = 10\n",
    "g = 9.8\n",
    "print(\"v = {:f} m/s\".format(sqrt(R*g)))"
   ]
  },
  {
   "cell_type": "markdown",
   "metadata": {},
   "source": [
    "### Part b)\n",
    "\n",
    "Maybe one should draw a FBD here, too. Though it's not really necessary.\n",
    "\n",
    "$$a = a_c = \\frac{v^2}{R}$$\n",
    "\n",
    "Putting in numbers:"
   ]
  },
  {
   "cell_type": "code",
   "execution_count": 4,
   "metadata": {
    "collapsed": false
   },
   "outputs": [
    {
     "name": "stdout",
     "output_type": "stream",
     "text": [
      "a = 48.841000 m/s^2 = 4.983776 g\n"
     ]
    }
   ],
   "source": [
    "v_bottom = 22.1\n",
    "a_bottom = v_bottom**2 / R\n",
    "print(\"a = {:f} m/s^2 = {:f} g\".format(a_bottom, a_bottom/g))"
   ]
  },
  {
   "cell_type": "markdown",
   "metadata": {},
   "source": [
    "At $5g$, that ride should be fun..."
   ]
  },
  {
   "cell_type": "markdown",
   "metadata": {},
   "source": [
    "## Problem 3\n",
    "\n",
    "[Draw a FBD]. We have gravity, normal force and the friction force of the tires on the road, which is what's accelerating the car.\n",
    "\n",
    "Use $x$ and $y$ coordinates as usual ($y$ being vertical, positive up). From Newton's 2nd Law in the $y$ direction:\n",
    "\n",
    "$$\n",
    "0 = ma_y = F_{net,y} = F_N - mg \\Longrightarrow F_N = mg\n",
    "$$\n",
    "\n",
    "In the x-direction:\n",
    "$$\n",
    "m a = m a_x = F_{net,x} = F_{f,s} \\le \\mu_s F_N \\Longrightarrow\n",
    "a \\le \\mu_s g\n",
    "$$\n",
    "\n",
    "Under ideal condition (good tires, dry), the maximum $\\mu_s$ from the table is 0.8. So the maximum acceleration can be calculated"
   ]
  },
  {
   "cell_type": "code",
   "execution_count": 5,
   "metadata": {
    "collapsed": false
   },
   "outputs": [
    {
     "name": "stdout",
     "output_type": "stream",
     "text": [
      "a_max = 7.840000 m/s^2\n"
     ]
    }
   ],
   "source": [
    "mu_s = 0.8\n",
    "a_max = mu_s*g\n",
    "print(\"a_max = {:f} m/s^2\".format(a_max))"
   ]
  },
  {
   "cell_type": "markdown",
   "metadata": {},
   "source": [
    "A car accelerating at $a_{max}$ for a distance of $100$ ft from a step would be going\n",
    "$$\n",
    "v_f^2 - v_i^2 = 2 a_{max} d \\Longrightarrow v_f = \\sqrt{2a_{max}d}\n",
    "$$\n",
    "Let's calculate that and convert to mph."
   ]
  },
  {
   "cell_type": "code",
   "execution_count": 6,
   "metadata": {
    "collapsed": false
   },
   "outputs": [
    {
     "name": "stdout",
     "output_type": "stream",
     "text": [
      "vf = 21.861528 m/s = 48.913300 mph\n"
     ]
    }
   ],
   "source": [
    "d = 100 * 0.3048\n",
    "vf = sqrt(2*a_max*d)\n",
    "print(\"vf = {:f} m/s = {:f} mph\".format(vf, vf*3600/1609))"
   ]
  },
  {
   "cell_type": "markdown",
   "metadata": {},
   "source": [
    "Assuming that all the numbers given were precise enough, one indeed has a good argument that the max speed one could reach would only be 49 mph at best. (That's assuming it's not a sports car with a wing that increases normal force, and 0.8 as max coefficient of friction seems kinda low, too...)"
   ]
  },
  {
   "cell_type": "markdown",
   "metadata": {},
   "source": [
    "## Problem 4\n",
    "\n",
    "[Draw two FBDs]\n",
    "\n",
    "For the first part of the problem, it's good enough to treat the motion of the two blocks as 1-d, and I choose the positive direction to be the direction of actual motion (that is, right for the top block, down for the hanging block). Both blocks then have the same acceleration $a$.\n",
    "\n",
    "Block $M$:\n",
    "$$\n",
    "Ma = F_{net} = T\n",
    "$$\n",
    "\n",
    "Block $m$:\n",
    "$$\n",
    "ma = F_{net} = mg - T\n",
    "$$\n",
    "\n",
    "Eliminating $T$ from these two equations, we can solve for $a$:\n",
    "$$\n",
    "a = \\frac{m}{m+M} g\n",
    "$$\n",
    "\n",
    "Block $m$ will fall down $h = 1$m until it hits the ground. Both blocks move a distance of $h$ until that happens, so we can find their speed $v_f$ (same for both), since they start from rest:\n",
    "$$\n",
    "v_f^2 - v_i^2 = 2ah \\Longrightarrow v_f = \\sqrt{2ah}\n",
    "$$\n",
    "\n"
   ]
  },
  {
   "cell_type": "markdown",
   "metadata": {},
   "source": [
    "At this point, block $m$ hits the ground, so the rope goes slack. There is no more force accelerating block $M$, so it'll keep going at the same speed.\n",
    "\n",
    "It then flies off the table and the problem becomes a projectile motion problem. For that, I'm going to use the usual $x$ and $y$ coordinates. At the moment it's flying off, it's moving horizonally, so $v_{0x} = v_f$ and $v_{0y} = 0$.\n",
    "\n",
    "I want to know how far it moves horizontally, but I'll first have to find the time until it lands, starting at a height of $H = 2$m.\n",
    "\n",
    "$$\n",
    "0 = y_f = -\\frac{1}{2}gt_f^2 + H \\Longrightarrow t_f = \\sqrt{\\frac{2H}{g}}\n",
    "$$\n",
    "So finally I'll find the horizontal distance where it lands:\n",
    "$$\n",
    "D = x_f = v_{0x} t_f = v_f t_f\n",
    "$$\n",
    "\n",
    "Time to do the numbers..."
   ]
  },
  {
   "cell_type": "code",
   "execution_count": 7,
   "metadata": {
    "collapsed": false
   },
   "outputs": [
    {
     "name": "stdout",
     "output_type": "stream",
     "text": [
      "a = 1.633333 m/s^2 vf = 1.807392 m/s tf = 0.638877 s D = 1.154701 m\n"
     ]
    }
   ],
   "source": [
    "M = 5\n",
    "m = 1\n",
    "h = 1\n",
    "H = 2\n",
    "a = m/(m+M) * g\n",
    "vf = sqrt(2*a*h)\n",
    "tf = sqrt(2*H/g)\n",
    "D = vf * tf\n",
    "print(\"a = {:f} m/s^2 vf = {:f} m/s tf = {:f} s D = {:f} m\".format(a, vf, tf, D))"
   ]
  },
  {
   "cell_type": "markdown",
   "metadata": {},
   "source": [
    "So a distance of $1.15$m away from the first block (which didn't move horizontally)."
   ]
  },
  {
   "cell_type": "markdown",
   "metadata": {},
   "source": [
    "## Problem 5\n",
    "\n",
    "See the solution for Act. 3.11, Problem 3(b). It's exactly the same, other than the numbers:\n",
    "\n",
    "$$\n",
    "v_{max,min} = \\sqrt{rg\\frac{\\sin\\theta\\pm\\mu\\cos\\theta}{\\cos\\theta \\mp\\mu\\sin\\theta}}\n",
    "$$\n",
    "\n"
   ]
  },
  {
   "cell_type": "code",
   "execution_count": 8,
   "metadata": {
    "collapsed": false
   },
   "outputs": [
    {
     "name": "stdout",
     "output_type": "stream",
     "text": [
      "vmax = 11.617535 m/s, vmin = 6.077552 m/s\n"
     ]
    }
   ],
   "source": [
    "def v(r, th, mu):\n",
    "    return sqrt(r*g*(sin(th)+mu*cos(th)/(cos(th)-mu*sin(th))))\n",
    "\n",
    "r = 50\n",
    "th = rad(10)\n",
    "mu = 0.1\n",
    "    \n",
    "print(\"vmax = {:f} m/s, vmin = {:f} m/s\".format(v(r, th, mu), v(r, th, -mu)))"
   ]
  },
  {
   "cell_type": "code",
   "execution_count": null,
   "metadata": {
    "collapsed": true
   },
   "outputs": [],
   "source": []
  }
 ],
 "metadata": {
  "kernelspec": {
   "display_name": "Python 3",
   "language": "python",
   "name": "python3"
  },
  "language_info": {
   "codemirror_mode": {
    "name": "ipython",
    "version": 3
   },
   "file_extension": ".py",
   "mimetype": "text/x-python",
   "name": "python",
   "nbconvert_exporter": "python",
   "pygments_lexer": "ipython3",
   "version": "3.4.9"
  }
 },
 "nbformat": 4,
 "nbformat_minor": 2
}

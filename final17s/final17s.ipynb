{
 "cells": [
  {
   "cell_type": "markdown",
   "metadata": {
    "deletable": true,
    "editable": true
   },
   "source": [
    "# Sample Final solution\n",
    "\n",
    "Just generic python setup first, including some helper functions to help with degree-radians conversion, and solving quadratic equations"
   ]
  },
  {
   "cell_type": "code",
   "execution_count": 1,
   "metadata": {
    "collapsed": true,
    "deletable": true,
    "editable": true
   },
   "outputs": [],
   "source": [
    "import numpy as np\n",
    "from numpy import sin, cos, tan, arctan2, sqrt"
   ]
  },
  {
   "cell_type": "code",
   "execution_count": 2,
   "metadata": {
    "collapsed": false,
    "deletable": true,
    "editable": true
   },
   "outputs": [],
   "source": [
    "def rad(th):\n",
    "    return th * np.pi/180\n",
    "\n",
    "def deg(th):\n",
    "    return th * 180/np.pi\n",
    "\n",
    "def quadratic(a, b, c):\n",
    "    return ((-b + sqrt(b**2 - 4*a*c)) / (2*a),\n",
    "            (-b - sqrt(b**2 - 4*a*c)) / (2*a))"
   ]
  },
  {
   "cell_type": "markdown",
   "metadata": {
    "deletable": true,
    "editable": true
   },
   "source": [
    "## Problem 1\n",
    "\n",
    "### Part (a)\n",
    "\n",
    "Here's a FBD.\n",
    "\n",
    "![figure](final17s_1.png)\n",
    "\n",
    "The book is not yet sliding, so it's still in static equilibrium, that is, the net force is zero. The force of static friction is at it's max.\n",
    "\n",
    "From the $y$ direction, ie., normal to the plane:\n",
    "$$\n",
    "0 = F_{net,y} = F_N - F_G\\cos\\theta \\Longrightarrow F_N = mg\\cos\\theta\n",
    "$$\n",
    "From the $x$ direction, ie down the plane:\n",
    "$$\n",
    "0 = F_{net,x} = F_G\\sin\\theta - F_f \\Longrightarrow mg\\sin\\theta = F_f = \\mu_s F_N = \\mu_s mg\\cos\\theta\n",
    "$$\n",
    "\n",
    "$mg$ cancels out and we can solve for $\\mu_s$:\n",
    "$$\n",
    "\\mu_s = \\frac{\\sin\\theta}{\\cos\\theta} = \\tan \\theta\n",
    "$$\n",
    "\n",
    "### Part (b)\n",
    "\n",
    "$F_g = mg$ stays the same, but the components change: $F_{Gx} = mg\\sin\\theta$ becomes smaller, while $F_{Gy} = mg\\cos\\theta$ becomes larger. The normal force $F_N = mg\\cos\\theta$ becomes larger. The maximum possible static friction $\\mu_s F_N$ therefore gets larger as well, however the actual friction force only needs to balance $F_{Gx}$ and therefore becomes smaller, so $F_f$ is definitely smaller than $\\mu_s F_N$ now, the book isn't on the verge of starting to slip at all."
   ]
  },
  {
   "cell_type": "markdown",
   "metadata": {},
   "source": [
    "## Problem 2\n",
    "\n",
    "### Part (a)\n",
    "\n",
    "Draw FBDs for the two masses:\n",
    "\n",
    "![figure](final17s_2.png)\n",
    "\n",
    "I'm calling the directions that the respective masses move positive, so all my accelerations will be positive. They will also be equal in magnitude, since the masses are connected by a string.\n",
    "\n",
    "\\begin{align}\n",
    "ma &= F_G - F_T = mg - F_T\\\\\n",
    "Ma &= F_T\n",
    "\\end{align}\n",
    "\n",
    "That's a system of two equations with two unknowns, $a$ and $F_T$. Add the two equations to eliminate $F_T$:\n",
    "$$\n",
    "(m+M)a = mg \\Longrightarrow a = \\frac{m}{m+M}g\n",
    "$$\n",
    "\n",
    "### Part (b)\n",
    "\n",
    "I could use conservation of energy, but since I already found $a$ in the previous part, and it's constant, I can just use kinematics for either mass, using that the massses start from rest ($v_i = 0$):\n",
    "$$\n",
    "v_f^2 - v_i^2 = 2 a \\Delta s \\Longrightarrow v_f = \\sqrt{2ah} = \\sqrt{2\\frac{m}{m+M}gh}\n",
    "$$\n",
    "\n",
    "### Part (c)\n",
    "\n",
    "I could redo things like in (a), adding a FBD for the pulley and realizing that the tension is now different on both sides of the pulley, so I'll get three unknowns: $a, T_1, T_2$. But I also have a new equation, the rotational 2nd Law $\\tau_{net} = I\\alpha$ which I could fill in from the FBD and use that $a = r\\alpha$. Once I have found $a$ from the system of 3 equation, I'd proceed as in (b).\n",
    "\n",
    "Instead, I'll use conservation of energy. Initially, everything is at rest, but mass $m$ has a potential energy of $mgh$:\n",
    "$$E_i = mgh$$\n",
    "\n",
    "(Strictly speaking, I should maybe add the potential energy for $M$ and the pulley. But since those aren't moving up or down, those potential energies don't change, so I'd add them to $E_i$ and $E_f$, so they'd cancel out. So it's easier to just not add them in the first place.)\n",
    "\n",
    "At the final time, just as mass $m$ is about to hit the ground, it's lost its potential energy, but both masses are now moving, and the pulley is rotating:\n",
    "$$\n",
    "E_f = \\frac{1}{2}mv_f^2 + \\frac{1}{2}Mv_f^2 + \\frac{1}{2}I\\omega_f^2\n",
    "$$\n",
    "The two masses are connected by the string, so their speed is the same, that's why I just used $v_f$ for both. The string runs along the outside of the pulley, so the edge of the pulley is moving at $v_f$, too. I can relate that to $\\omega_f$ using $v_f = r\\omega_f$.\n",
    "\n",
    "Setting $E_i = E_f$ and putting it all together:\n",
    "$$\n",
    "mgh = \\frac{1}{2}\\left(m + M + I/r^2\\right) v_f^2 \\Longrightarrow v_f = \\sqrt{2\\frac{m}{m + M + I/r^2}gh} = \\sqrt{2\\frac{m}{m + M + \\frac{1}{2}m_{pulley}}gh}\n",
    "$$\n",
    "where at the last equal sign I plugged in $I = \\frac{1}{2}m_{pulley}r^2$ for a disc-shaped pulley. It's noteworthy that in the case of a massless pulley, I recover the answer from (b).\n",
    "\n",
    "### Part (d)\n",
    "\n",
    "While the moment of inertia for a larger pulley would be greater, it would also rotate more slowly, which ends up canceling -- as can be seen from the answer to (c), the final speed does not depend on the radius of the pulley, just its mass."
   ]
  },
  {
   "cell_type": "markdown",
   "metadata": {},
   "source": [
    "## Problem 3\n",
    "\n",
    "### Part (a)\n",
    "\n",
    "I'll call the clockwise direction positive. The angle between the forces and the lever arm is $60^\\circ$ (well, $120^\\circ$ for $m_1$, but the sine is the same either way, so I'll just use $\\theta = 60^\\circ$ throughout).\n",
    "$$\n",
    "\\tau_{net} = \\frac{L}{2} m_3 \\sin\\theta + \\frac{L}{4} m_2 \\sin\\theta - \\frac{L}{2} m_1 \\sin\\theta\n",
    "$$"
   ]
  },
  {
   "cell_type": "code",
   "execution_count": 5,
   "metadata": {},
   "outputs": [
    {
     "name": "stdout",
     "output_type": "stream",
     "text": [
      "net torque = 21.650635 ft lbs\n"
     ]
    }
   ],
   "source": [
    "theta = rad(60)\n",
    "L = 10\n",
    "m_1 = 100\n",
    "m_2 = 60\n",
    "m_3 = 75\n",
    "tau_net = (.5*m_3 + .25*m_2 - .5*m_1) * L * sin(theta)\n",
    "print(\"net torque = {:f} ft lbs\".format(tau_net))"
   ]
  },
  {
   "cell_type": "markdown",
   "metadata": {},
   "source": [
    "The net torque is positive, ie, clockwise, so the teeter totter will start moving. I can calculate $\\alpha$ from the 2nd Law $\\tau_{net} = I\\alpha$, but I need $I$ first, which is determined by the 3 masses and where they are:\n",
    "$$\n",
    "I = m_1 \\left(\\frac{L}{2}\\right)^2 + m_2 \\left(\\frac{L}{4}\\right)^2 + m_3 \\left(\\frac{L}{2}\\right)^2 \n",
    "$$\n",
    "$$\n",
    "\\tau_{net} = I \\alpha \\Longrightarrow \\alpha = \\frac{\\tau_{net}}{I}\n",
    "$$"
   ]
  },
  {
   "cell_type": "code",
   "execution_count": 11,
   "metadata": {},
   "outputs": [
    {
     "name": "stdout",
     "output_type": "stream",
     "text": [
      "I = 4750.000000 lbs ft^2, alpha = 0.145857 rad/s^2\n"
     ]
    }
   ],
   "source": [
    "I = m_1*(.5*L)**2 + m_2*(.25*L)**2 + m_3*(.5*L)**2\n",
    "g = 32 # ft/s^2\n",
    "alpha = tau_net * g / I\n",
    "print(\"I = {:f} lbs ft^2, alpha = {:f} rad/s^2\".format(I, alpha))"
   ]
  },
  {
   "cell_type": "markdown",
   "metadata": {},
   "source": [
    "where imperial units make this a bit messy...\n",
    "\n",
    "If we take into account the mass of the teeter totter, there's more mass to move, so the angular acceleration should become smaller. Since the center of mass is at the pivot, there's not additional torque, but we have to add the moment of inertia of the teeter totter itself, which is like a rod, $I_{rod} = \\frac{1}{12} ML^2$."
   ]
  },
  {
   "cell_type": "code",
   "execution_count": 14,
   "metadata": {},
   "outputs": [
    {
     "name": "stdout",
     "output_type": "stream",
     "text": [
      "I2 = 5583.333333 lbs ft^2, alpha2 = 0.124087 rad/s^2\n"
     ]
    }
   ],
   "source": [
    "I2 = I + 1/12. * 100*L**2\n",
    "alpha2 = tau_net * g / I2\n",
    "print(\"I2 = {:f} lbs ft^2, alpha2 = {:f} rad/s^2\".format(I2, alpha2))"
   ]
  },
  {
   "cell_type": "markdown",
   "metadata": {},
   "source": [
    "The angular acceleration did indeed decrease."
   ]
  },
  {
   "cell_type": "markdown",
   "metadata": {},
   "source": [
    "## Problem 4\n",
    "\n",
    "As the ball is sitting on the spring, compressed by $d = 0.5cm$, we can use the fact that this is in equilibrium to determine the spring constant $k$. A FBD shows that\n",
    "$$\n",
    "0 = F_{net} = F_sp - F_G \\Longrightarrow kd = mg \\Longrightarrow k = \\frac{mg}{d}\n",
    "$$\n",
    "\n",
    "After the spring is turned and compressed more, it is released. As the spring force changes during its relaxation, acceleration then won't be constant and doing this with kinematics would be a bit of a hassle. So let's use conservation of energy instead, neglecting the relatively small amount of gravitational energy that changes while the spring relaxes. The spring starts compressed by $D = 10$ cm.\n",
    "\\begin{align}\n",
    "E_i &= \\frac{1}{2}k D^2\\\\\n",
    "E_f &= \\frac{1}{2}m v_0^2\n",
    "\\end{align}\n",
    "\n",
    "Energy is conserved because there are no non-conservative forces:\n",
    "$$\n",
    "E_i = E_f \\Longrightarrow \\frac{1}{2} \\frac{mg}{d} D^2 = \\frac{1}{2} m v_0^2\n",
    "\\Longrightarrow v_0 = \\sqrt{\\frac{g}{d}D^2}\n",
    "$$\n",
    "$v_0$ is the speed after it has been launched by the spring. To figure out the maximum height, one could just use kinematics (projectile motion). While energy is conserved during the flight, it's not directly useful, since the kinetic energy at the peak of the flight is not zero (it's still moving horizontally then). But I'll use it anyway, but I'll still have to split $v_0$ into componens $v_{0x}$ and $v_{0y}$, and know that $v_{x}$ stays constant while $v_y = 0$ at the peak of the flight. Conservation of energy from just after launch to peak of flight:\n",
    "\n",
    "\\begin{align}\n",
    "\\frac{1}{2}mv_0^2 &= \\frac{1}{2}mv_{0x}^2 + mgh_f\\\\\n",
    "\\frac{1}{2}m(v_{0x}^2  + v_{0y}^2) &= \\frac{1}{2}mv_{0x}^2 + mgh_f\\\\\n",
    "\\frac{1}{2}mv_{0y}^2 &= mgh_f\\\\\n",
    "\\frac{v_{0y}^2}{2g} &= h_f\n",
    "\\end{align}"
   ]
  },
  {
   "cell_type": "code",
   "execution_count": 22,
   "metadata": {},
   "outputs": [
    {
     "name": "stdout",
     "output_type": "stream",
     "text": [
      "k = 19600.000000 v_0 = 4.427189 m/s peak height = 0.750000 m\n"
     ]
    }
   ],
   "source": [
    "g = 9.8\n",
    "d = 0.005\n",
    "D = 0.1\n",
    "m = 10\n",
    "k = m * g / d\n",
    "v_0 = sqrt(g/d * D**2)\n",
    "v_0y = v_0 * cos(rad(30)) # cos because angle is from vertical\n",
    "h_f = v_0y**2 / (2*g)\n",
    "print(\"k = {:f} v_0 = {:f} m/s peak height = {:f} m\".format(k, v_0, h_f))"
   ]
  },
  {
   "cell_type": "markdown",
   "metadata": {},
   "source": [
    "## Problem 5\n",
    "\n",
    "### Part (a)\n",
    "\n",
    "$$\n",
    "\\vec v(t) = A \\hat i + (B + Ct) \\hat j\n",
    "$$\n",
    "\n",
    "Since $\\vec v(t)$ equals $v_{0x}\\hat i + v_{0y}\\hat j$ at time 0:\n",
    "\n",
    "$$\n",
    "v_{0x}\\hat + v_{0y}\\hat j = \\vec v(0) = A\\hat i + B \\hat j \\Longrightarrow A = v_{0x}, B = v_{0y}\n",
    "$$\n",
    "\n",
    "So\n",
    "$$\n",
    "\\vec v(t) = v_{0x} \\hat i + (v_{0y} + Ct) \\hat j\n",
    "$$\n",
    "\n",
    "\n",
    "### Part (b)\n",
    "\n",
    "To find position, we have to integrate $\\vec v$ over time:\n",
    "$$\n",
    "\\vec r(t) = \\int_0^t \\vec v(t') dt = \\left(v_{0x} t + x_0\\right)\\hat i + \\left(\\frac{1}{2}Ct^2 + v_{0y}t + y_0\\right)\\hat j\n",
    "$$\n",
    "\n",
    "Given the initial conditions, $x_0 = 0$ and $y_0 = h$, so\n",
    "$$\n",
    "\\vec r(t) = \\left(v_{0x} t\\right)\\hat i + \\left(\\frac{1}{2}Ct^2 + v_{0y}t + h\\right)\\hat j\n",
    "$$\n",
    "\n"
   ]
  },
  {
   "cell_type": "markdown",
   "metadata": {},
   "source": [
    "This looks much like projectile motion (where $c = -g$), and in any case, it is a parabola. We can show it explicitly by calculating the trajectory $y(x)$:\n",
    "$$\n",
    "x = v_{0x}t \\Longrightarrow t = \\frac{x}{v_{0x}}\n",
    "$$\n",
    "Plug that into $y(t)$:\n",
    "\n",
    "\\begin{align*}\n",
    "y(x) &= \\frac{1}{2}C\\left(\\frac{x}{v_{0x}}\\right)^2 + v_{0y}\\frac{x}{v_{0x}} + h\\\\\n",
    "y(x) &= \\frac{1}{2}\\left(\\frac{C}{v_{0x}}\\right)^2x^2 + \\frac{v_{0y}}{v_{0x}}x + h\n",
    "\\end{align*}\n",
    "which is the formula for a parabola.\n"
   ]
  },
  {
   "cell_type": "markdown",
   "metadata": {},
   "source": [
    "### Part (c)\n",
    "This time, we have to take the derivative:\n",
    "$$\n",
    "\\vec a(t) = \\frac{d\\vec v}{dt} = C\\hat j\n",
    "$$\n",
    "\n",
    "So the acceleration in the $y$ direction is a constant $C$, while it is zero in the $x$ direction.\n",
    "\n",
    "### Part (d)\n",
    "\n",
    "The acceleration always points straight up or down, while the object moves along a parabola from left to right. So the acceleration is never aligned with the trajectory. It is perpendicular just once, at the peak or bottom of the object where it moves horizontally. In generally, the acceleration is a combination of perpendicular and tangential components.\n",
    "\n",
    "### Part (e)\n",
    "\n",
    "If $C = -g$, we have the equations for regular projectile motion. If one wants to think of acceleration in terms of perpendicular / parallel to the trajectory, there is always a perpendicular component, which makes the object move on a curve (rather than a straight line). There is also a tangential component, which slows own / speeds up the object."
   ]
  }
 ],
 "metadata": {
  "kernelspec": {
   "display_name": "Python 3",
   "language": "python",
   "name": "python3"
  },
  "language_info": {
   "codemirror_mode": {
    "name": "ipython",
    "version": 3
   },
   "file_extension": ".py",
   "mimetype": "text/x-python",
   "name": "python",
   "nbconvert_exporter": "python",
   "pygments_lexer": "ipython3",
   "version": "3.7.1"
  }
 },
 "nbformat": 4,
 "nbformat_minor": 2
}

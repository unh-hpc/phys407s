{
 "cells": [
  {
   "cell_type": "markdown",
   "metadata": {
    "deletable": true,
    "editable": true
   },
   "source": [
    "# HW 6\n",
    "\n",
    "Just generic python setup first, including some helper functions to help with degree-radians conversion, and solving quadratic equations"
   ]
  },
  {
   "cell_type": "code",
   "execution_count": 1,
   "metadata": {
    "collapsed": true,
    "deletable": true,
    "editable": true
   },
   "outputs": [],
   "source": [
    "import numpy as np\n",
    "from numpy import sin, cos, tan, arctan2, sqrt"
   ]
  },
  {
   "cell_type": "code",
   "execution_count": 2,
   "metadata": {
    "collapsed": false,
    "deletable": true,
    "editable": true
   },
   "outputs": [],
   "source": [
    "def rad(th):\n",
    "    return th * np.pi/180\n",
    "\n",
    "def deg(th):\n",
    "    return th * 180/np.pi\n",
    "\n",
    "def quadratic(a, b, c):\n",
    "    return ((-b + sqrt(b**2 - 4*a*c)) / (2*a),\n",
    "            (-b - sqrt(b**2 - 4*a*c)) / (2*a))"
   ]
  },
  {
   "cell_type": "markdown",
   "metadata": {
    "collapsed": true,
    "deletable": true,
    "editable": true
   },
   "source": [
    "## Problem 1\n",
    "\n",
    "### Part a)\n",
    "\n",
    "Here's a sketch (thanks to google images):\n",
    "\n",
    "![figure](hw6_1.png)\n",
    "\n",
    "I chose the coordinate system for each block such that the $x$ direction goes in the direction that the penguin would slide (down the hill).\n",
    "\n",
    "Since the penguin isn't quite sliding yet but remains at rest, the net force is zero, that is, both $x$ and $y$ components are zero:\n",
    "\n",
    "\\begin{align}\n",
    "0 &= F_{net,x} = mg\\sin\\theta - \\mu_s F_N\\\\\n",
    "0 &= F_{net,y} = F_N - mg\\cos\\theta\n",
    "\\end{align}\n",
    "\n",
    "where I usesd that the force of static friction is at its max $\\mu_s F_N$.\n",
    "\n",
    "The second equation can be used to find $F_N = mg\\cos\\theta$, and plugging this into the first equation we get\n",
    "$$\n",
    "mg\\sin\\theta - \\mu_s mg\\cos\\theta = 0\n",
    "$$\n",
    "from which we find\n",
    "$$\n",
    "\\tan\\theta = \\mu_s\\qquad\\text{or}\\qquad \\theta = \\tan^{-1} \\mu_s\n",
    "$$\n",
    "\n",
    "### Part b)\n",
    "\n",
    "Can't take credit for the pic ;)\n",
    "\n",
    "### Part c)\n",
    "\n",
    "Let's do the numbers."
   ]
  },
  {
   "cell_type": "code",
   "execution_count": 3,
   "metadata": {
    "collapsed": false,
    "deletable": true,
    "editable": true
   },
   "outputs": [
    {
     "name": "stdout",
     "output_type": "stream",
     "text": [
      "30 deg: 0.577350, 45 deg: 1.000000\n"
     ]
    }
   ],
   "source": [
    "print(\"30 deg: {:f}, 45 deg: {:f}\".format(tan(rad(30)), tan(rad(45))))\n"
   ]
  },
  {
   "cell_type": "markdown",
   "metadata": {
    "collapsed": true,
    "deletable": true,
    "editable": true
   },
   "source": [
    "Values look reasonable to me. A coefficient of friction of, say, 0.7 means the penguin wouldn't slide on a 30 degree slope, but on 45 degree slope, it would slide down."
   ]
  },
  {
   "cell_type": "code",
   "execution_count": null,
   "metadata": {
    "collapsed": true
   },
   "outputs": [],
   "source": []
  }
 ],
 "metadata": {
  "kernelspec": {
   "display_name": "Python 3",
   "language": "python",
   "name": "python3"
  },
  "language_info": {
   "codemirror_mode": {
    "name": "ipython",
    "version": 3
   },
   "file_extension": ".py",
   "mimetype": "text/x-python",
   "name": "python",
   "nbconvert_exporter": "python",
   "pygments_lexer": "ipython3",
   "version": "3.4.9"
  }
 },
 "nbformat": 4,
 "nbformat_minor": 2
}

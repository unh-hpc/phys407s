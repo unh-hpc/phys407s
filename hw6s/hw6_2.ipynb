{
 "cells": [
  {
   "cell_type": "markdown",
   "metadata": {
    "deletable": true,
    "editable": true
   },
   "source": [
    "# HW 6\n",
    "\n",
    "Just generic python setup first, including some helper functions to help with degree-radians conversion, and solving quadratic equations"
   ]
  },
  {
   "cell_type": "code",
   "execution_count": 1,
   "metadata": {
    "collapsed": true,
    "deletable": true,
    "editable": true
   },
   "outputs": [],
   "source": [
    "import numpy as np\n",
    "from numpy import sin, cos, tan, arctan2, sqrt"
   ]
  },
  {
   "cell_type": "code",
   "execution_count": 2,
   "metadata": {
    "collapsed": false,
    "deletable": true,
    "editable": true
   },
   "outputs": [],
   "source": [
    "def rad(th):\n",
    "    return th * np.pi/180\n",
    "\n",
    "def deg(th):\n",
    "    return th * 180/np.pi\n",
    "\n",
    "def quadratic(a, b, c):\n",
    "    return ((-b + sqrt(b**2 - 4*a*c)) / (2*a),\n",
    "            (-b - sqrt(b**2 - 4*a*c)) / (2*a))"
   ]
  },
  {
   "cell_type": "markdown",
   "metadata": {
    "collapsed": true,
    "deletable": true,
    "editable": true
   },
   "source": [
    "## Problem 2\n",
    "\n",
    "Let's get the fun started with a sketch and 3 FBDs:\n",
    "\n",
    "![figure](hw6_2.png)\n",
    "\n",
    "I chose the coordinate system for each block such that the $x$ direction goes in the direction that the block actually moves, so acceleration will be positive, and the $y$ direction perpendicular to that.\n",
    "\n",
    "The $60^\\circ$ angle that is given is kinda unusual, but obviously the remaining angle of the slope of the horizontal is easily found to be $\\theta = 30^\\circ$, so I'll go with that.\n",
    "\n",
    "So we have to set up Newton's 2nd Law for each block. For the first block, there's only one non-trivial direction:\n",
    "$$\n",
    "m_1 a_1 = F_{net, on 1} = m_1 g - T_1\n",
    "$$\n",
    "\n",
    "For the other two blocks, we'll need to look at the $x$ and $y$ directions:\n",
    "\\begin{align}\n",
    "m_2 a_2 &= F_{net, \\,on\\, 2, x} = 2 T_2 + m_2 g \\sin\\theta - F_{f, 3\\, on\\, 2}\\\\\n",
    "0 &= F_{net, \\,on\\, 2, x} = F_{N, 3\\,on\\,2} - m_2 g \\cos\\theta\\\\\n",
    "m_3 a_3 &= F_{net, \\,on\\, 3, x} = T_1 - T_2 - m_3 g \\sin\\theta - F_{f, 2\\, on\\, 3} - F_{f, T\\,on\\,3}\\\\\n",
    "0 &= F_{net, \\,on\\, 3, x} = F_{N, T\\,on\\,3} - F_{N, 2\\,on\\,3} - m_3 g \\cos\\theta\\\\\n",
    "\\end{align}\n",
    "\n",
    "Let's think about accelerations for a minute: As the top block (2) slides $1 cm$, the bottom block (3) slides $2 cm$, as will the weight (1). Therefore\n",
    "$$a_1 = a_3 = 2a_2.$$\n",
    "\n",
    "I will simply use $a$, where $a_1 = a_3 = a$ and $a_2 = \\frac{1}{2} a$.\n",
    "\n",
    "It's all algebra from here. From the $y$ component of block 2:\n",
    "$$F_{N, 3\\,on\\,2} = m_2 g \\sin\\theta$$\n",
    "\n",
    "$F_{N, 2\\,on\\,3}$ is the 3rd law pair partner, hence has the same magnitude:\n",
    "$$F_{N, 2\\,on\\,3} = m_2 g \\cos\\theta$$\n",
    "\n",
    "From the $y$ component of block 3, and using the normal force we just found:\n",
    "$$F_{N, T\\,on\\,3} = (m_2 + m_3) g \\cos\\theta$$\n",
    "\n",
    "Now we still gotta work through the direction with actual acceleration. I'm writing them again using $a$, and the equation for block 2 I'll multiply by \\frac{1}{2}, so that the $2T_2$ becomes a single $T_2$ because I want that to cancel out next:\n",
    "\\begin{align}\n",
    "m_1 a &= m_1 g - T_1\\\\\n",
    "\\frac{1}{4} m_2 a &= T_2 + \\frac{1}{2}m_2 g \\sin\\theta - \\frac{1}{2}F_{f, 3\\, on\\, 2}\\\\\n",
    "m_3 a &= T_1 - T_2 - m_3 g \\sin\\theta - F_{f, 2\\, on\\, 3} - F_{f, T\\,on\\,3}\\\\\n",
    "\\end{align}\n",
    "Now I can just add all three equations to make $T_1$ and $T_2$ cancel out. I'll also replace the friction forces by the respective $\\mu F_N$.\n",
    "\n",
    "$$\n",
    "(m_1 + \\frac{1}{4}m_2 + m_3) a =\n",
    "(m_1 - (m_3 - \\frac{1}{2} m_2) \\sin\\theta)g - \\mu(\\frac{3}{2}m_2 + m_2 + m_3)g\\cos\\theta\n",
    "$$\n",
    "\n",
    "I can solve for $a$:\n",
    "\n",
    "$$\n",
    " a =\n",
    "\\frac{(m_1 - (m_3 - \\frac{1}{2} m_2) \\sin\\theta) - \\mu(\\frac{3}{2}m_2 + m_2 + m_3)\\cos\\theta}\n",
    "{m_1 + \\frac{1}{4}m_2 + m_3}g\n",
    "$$\n",
    "\n",
    "and plug in numbers."
   ]
  },
  {
   "cell_type": "code",
   "execution_count": 3,
   "metadata": {
    "collapsed": false,
    "deletable": true,
    "editable": true
   },
   "outputs": [
    {
     "name": "stdout",
     "output_type": "stream",
     "text": [
      "a = 5.024525\n"
     ]
    }
   ],
   "source": [
    "m1 = 10\n",
    "m2 = 2\n",
    "m3 = 3\n",
    "mu = 0.3\n",
    "d = 0.5\n",
    "theta = rad(90. - 60.)\n",
    "g = 9.8\n",
    "\n",
    "a = (m1 - (m3 - .5*m2)*sin(theta) - mu * (1.5*m2 + m2 + m3) * cos(theta)) / (m1 + m3 + .25*m2) * g\n",
    "print(\"a = {:f}\".format(a))"
   ]
  },
  {
   "cell_type": "markdown",
   "metadata": {
    "collapsed": true,
    "deletable": true,
    "editable": true
   },
   "source": [
    "As the top block (2) moves to the right/down by $(1/3) \\cdot 50$ cm, the bottom block (3) moves left/up by $(2/3) \\cdot 50$ cm, so that's where they meet.\n",
    "\n",
    "So\n",
    "$$\\frac{2}{3} d = \\frac{1}{2} a t^2 \\Longrightarrow t = \\sqrt{\\frac{4d}{3a}}.$$"
   ]
  },
  {
   "cell_type": "code",
   "execution_count": 4,
   "metadata": {
    "collapsed": false,
    "deletable": true,
    "editable": true
   },
   "outputs": [
    {
     "name": "stdout",
     "output_type": "stream",
     "text": [
      "t = 0.364256\n"
     ]
    }
   ],
   "source": [
    "t = sqrt((4*d)/(3*a))\n",
    "print(\"t = {:f}\".format(t))"
   ]
  },
  {
   "cell_type": "markdown",
   "metadata": {
    "collapsed": true,
    "deletable": true,
    "editable": true
   },
   "source": [
    "Final answer: It takes 0.36 seconds for the edges to line up."
   ]
  },
  {
   "cell_type": "code",
   "execution_count": null,
   "metadata": {
    "collapsed": true
   },
   "outputs": [],
   "source": []
  }
 ],
 "metadata": {
  "kernelspec": {
   "display_name": "Python 3",
   "language": "python",
   "name": "python3"
  },
  "language_info": {
   "codemirror_mode": {
    "name": "ipython",
    "version": 3
   },
   "file_extension": ".py",
   "mimetype": "text/x-python",
   "name": "python",
   "nbconvert_exporter": "python",
   "pygments_lexer": "ipython3",
   "version": "3.4.9"
  }
 },
 "nbformat": 4,
 "nbformat_minor": 2
}

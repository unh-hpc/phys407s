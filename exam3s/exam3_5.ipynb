{
 "cells": [
  {
   "cell_type": "markdown",
   "metadata": {
    "deletable": true,
    "editable": true
   },
   "source": [
    "# Sample exam 3\n",
    "\n",
    "Just generic python setup first, including some helper functions to help with degree-radians conversion, and solving quadratic equations"
   ]
  },
  {
   "cell_type": "code",
   "execution_count": 2,
   "metadata": {
    "collapsed": true,
    "deletable": true,
    "editable": true
   },
   "outputs": [],
   "source": [
    "import numpy as np\n",
    "from numpy import sin, cos, tan, arctan2, sqrt"
   ]
  },
  {
   "cell_type": "code",
   "execution_count": 3,
   "metadata": {
    "collapsed": false,
    "deletable": true,
    "editable": true
   },
   "outputs": [],
   "source": [
    "def rad(th):\n",
    "    return th * np.pi/180\n",
    "\n",
    "def deg(th):\n",
    "    return th * 180/np.pi\n",
    "\n",
    "def quadratic(a, b, c):\n",
    "    return ((-b + sqrt(b**2 - 4*a*c)) / (2*a),\n",
    "            (-b - sqrt(b**2 - 4*a*c)) / (2*a))"
   ]
  },
  {
   "cell_type": "markdown",
   "metadata": {
    "deletable": true,
    "editable": true
   },
   "source": [
    "## Problem 5\n",
    "\n",
    "### Part (a)\n",
    "\n",
    "(i) It is a completely inelastic collision, so momentum is conserved (like in all collisions).\n",
    "\n",
    "(ii) Mechanical energy is conserved. The two forces acting are gravity, which we take care of by using gravitational potential energy, and the tension force. The tension force acts perpendicular to the diplacement as the box swings, so it doesn't do any work.\n",
    "\n",
    "### Part (b)\n",
    "\n",
    "Use $m$ for the mass of the bullet, $M$ for the mass of the block. I'm using 1 for the state just before the bullet hits the block, 2 for after the bullet comes to rest within the block, 3 for the top of the swing.\n",
    "\n",
    "(i) \n",
    "$$\n",
    "m v_{B,1} = (m + M) v_2 \\Longrightarrow v_{B,1} = \\frac{m + M}{m} v_2\n",
    "$$\n",
    "\n",
    "(ii)\n",
    "$$\n",
    "\\frac{1}{2} (m+M) v_2^2 = (m+M)gh_3 = (m+M)gl(1-\\cos\\theta) \\Longrightarrow v_2 = \\sqrt{2gl(1-\\cos\\theta)}\n",
    "$$\n",
    "\n",
    "Plugging in v_2:\n",
    "\n",
    "$$\n",
    "v_{B,1} = \\frac{m + M}{m} \\sqrt{2gl(1-\\cos\\theta)}\n",
    "$$\n",
    "    "
   ]
  },
  {
   "cell_type": "code",
   "execution_count": 5,
   "metadata": {},
   "outputs": [
    {
     "name": "stdout",
     "output_type": "stream",
     "text": [
      "initial speed of bullet 218.723917 m/s\n"
     ]
    }
   ],
   "source": [
    "m = .002\n",
    "M = 2\n",
    "l = 1\n",
    "theta = rad(4)\n",
    "g = 9.8\n",
    "\n",
    "v_B1 = (m+M)/m * sqrt(2*g*l*(1-cos(theta)))\n",
    "print(\"initial speed of bullet {:f} m/s\".format(v_B1))"
   ]
  },
  {
   "cell_type": "code",
   "execution_count": null,
   "metadata": {},
   "outputs": [],
   "source": []
  }
 ],
 "metadata": {
  "kernelspec": {
   "display_name": "Python 3",
   "language": "python",
   "name": "python3"
  },
  "language_info": {
   "codemirror_mode": {
    "name": "ipython",
    "version": 3
   },
   "file_extension": ".py",
   "mimetype": "text/x-python",
   "name": "python",
   "nbconvert_exporter": "python",
   "pygments_lexer": "ipython3",
   "version": "3.7.1"
  }
 },
 "nbformat": 4,
 "nbformat_minor": 2
}

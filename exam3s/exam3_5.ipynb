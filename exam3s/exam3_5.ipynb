{
 "cells": [
  {
   "cell_type": "markdown",
   "metadata": {
    "deletable": true,
    "editable": true
   },
   "source": [
    "# Sample exam 3\n",
    "\n",
    "Just generic python setup first, including some helper functions to help with degree-radians conversion, and solving quadratic equations"
   ]
  },
  {
   "cell_type": "code",
   "execution_count": 21,
   "metadata": {
    "collapsed": true,
    "deletable": true,
    "editable": true
   },
   "outputs": [],
   "source": [
    "import numpy as np\n",
    "from numpy import sin, cos, tan, arctan2, sqrt"
   ]
  },
  {
   "cell_type": "code",
   "execution_count": 22,
   "metadata": {
    "collapsed": false,
    "deletable": true,
    "editable": true
   },
   "outputs": [],
   "source": [
    "def rad(th):\n",
    "    return th * np.pi/180\n",
    "\n",
    "def deg(th):\n",
    "    return th * 180/np.pi\n",
    "\n",
    "def quadratic(a, b, c):\n",
    "    return ((-b + sqrt(b**2 - 4*a*c)) / (2*a),\n",
    "            (-b - sqrt(b**2 - 4*a*c)) / (2*a))"
   ]
  },
  {
   "cell_type": "markdown",
   "metadata": {
    "deletable": true,
    "editable": true
   },
   "source": [
    "## Problem 5\n",
    "\n",
    "### Part (a)\n",
    "\n",
    "Here, we can just use conservation of energy, since there are no non-conservative forces:\n",
    "\n",
    "$$E_i = \\frac{1}{2} k x_i^2$$\n",
    "$$E_f = \\frac{1}{2} m v_f^2 + mgh_f$$\n",
    "\n",
    "$$E_i = E_f \\Longrightarrow \\frac{1}{2} k x_i^2 = \\frac{1}{2} mv_f^2 + mgh_f$$\n",
    "$$\\Longrightarrow v_f = \\sqrt{\\frac{k x_i^2}{m} - 2gh_f}$$"
   ]
  },
  {
   "cell_type": "markdown",
   "metadata": {},
   "source": [
    "We still need $h_f$, which is easily found using trig: $h_f = D \\tan30^\\circ$, where $D = .8$ m."
   ]
  },
  {
   "cell_type": "code",
   "execution_count": 31,
   "metadata": {},
   "outputs": [
    {
     "name": "stdout",
     "output_type": "stream",
     "text": [
      "v_f = 4.790318 m/s\n"
     ]
    }
   ],
   "source": [
    "x_i = .4\n",
    "k = 1000\n",
    "m = 5\n",
    "D = .8\n",
    "h_f = D * tan(rad(30))\n",
    "g = 9.8\n",
    "v_f = sqrt(k*x_i**2/m - 2*g*h_f)\n",
    "print(\"v_f = {:f} m/s\".format(v_f))"
   ]
  },
  {
   "cell_type": "markdown",
   "metadata": {},
   "source": [
    "### Part (b)\n",
    "\n",
    "Since we now have fraction, mechanical energy is conserved, but we can calculate the work done by non-conservative forces (ie., friction). We have to find the magnitude of the friction force, $F_f = \\mu F_N$, which requires the normal force, for which we should draw a FBD to find $F_N = mg\\cos30^\\circ$.\n",
    "\n",
    "Hence\n",
    "$$W_F = -F_f \\Delta s = -\\mu mg\\cos30^\\circ \\frac{D}{\\cos 30^\\circ} = -\\mu mgD\n",
    "$$"
   ]
  },
  {
   "cell_type": "markdown",
   "metadata": {},
   "source": [
    "where I found the distance along the ramp $\\Delta s$ using trig again.\n",
    "$$E_f - E_i = W_{non-cons} = W_F$$"
   ]
  },
  {
   "cell_type": "markdown",
   "metadata": {},
   "source": [
    "$$\\frac{1}{2} m v_f^2 + mgh_f - \\frac{1}{2} k x_i^2 = -\\mu mgD$$\n",
    "$$\\frac{1}{2} m v_f^2 = \\frac{1}{2} k x_i^2 -mg(h_f +\\mu D)$$\n",
    "$$ v_f = \\sqrt{\\frac{k x_i^2}{m} - 2g(h_f+\\mu D}$$"
   ]
  },
  {
   "cell_type": "code",
   "execution_count": 33,
   "metadata": {},
   "outputs": [
    {
     "name": "stdout",
     "output_type": "stream",
     "text": [
      "v_f = 4.538188 m/s\n"
     ]
    }
   ],
   "source": [
    "mu = .15\n",
    "v_f = sqrt(k*x_i**2/m - 2*g*(h_f+mu*D))\n",
    "print(\"v_f = {:f} m/s\".format(v_f))"
   ]
  },
  {
   "cell_type": "code",
   "execution_count": null,
   "metadata": {},
   "outputs": [],
   "source": []
  }
 ],
 "metadata": {
  "kernelspec": {
   "display_name": "Python 3",
   "language": "python",
   "name": "python3"
  },
  "language_info": {
   "codemirror_mode": {
    "name": "ipython",
    "version": 3
   },
   "file_extension": ".py",
   "mimetype": "text/x-python",
   "name": "python",
   "nbconvert_exporter": "python",
   "pygments_lexer": "ipython3",
   "version": "3.7.1"
  }
 },
 "nbformat": 4,
 "nbformat_minor": 2
}

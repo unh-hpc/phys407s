{
 "cells": [
  {
   "cell_type": "markdown",
   "metadata": {
    "deletable": true,
    "editable": true
   },
   "source": [
    "# Sample exam 3\n",
    "\n",
    "Just generic python setup first, including some helper functions to help with degree-radians conversion, and solving quadratic equations"
   ]
  },
  {
   "cell_type": "code",
   "execution_count": 1,
   "metadata": {
    "collapsed": true,
    "deletable": true,
    "editable": true
   },
   "outputs": [],
   "source": [
    "import numpy as np\n",
    "from numpy import sin, cos, tan, arctan2, sqrt"
   ]
  },
  {
   "cell_type": "code",
   "execution_count": 2,
   "metadata": {
    "collapsed": false,
    "deletable": true,
    "editable": true
   },
   "outputs": [],
   "source": [
    "def rad(th):\n",
    "    return th * np.pi/180\n",
    "\n",
    "def deg(th):\n",
    "    return th * 180/np.pi\n",
    "\n",
    "def quadratic(a, b, c):\n",
    "    return ((-b + sqrt(b**2 - 4*a*c)) / (2*a),\n",
    "            (-b - sqrt(b**2 - 4*a*c)) / (2*a))"
   ]
  },
  {
   "cell_type": "markdown",
   "metadata": {
    "deletable": true,
    "editable": true
   },
   "source": [
    "## Problem 2\n",
    "\n",
    "### Part (a)\n",
    "\n",
    "We can (and should) use conservation of energy from point A to point B. Gravity is conservative, and the normal force doesn't do work, since it's perpendicular to the motion along the track.\n",
    "\n",
    "\\begin{align}\n",
    "E_A &= E_B\\\\\n",
    "mgh &= \\frac{1}{2}mv_B^2 + mg(2R)\\\\\n",
    "v_B &= \\sqrt{2g(h-2R)}\n",
    "\\end{align}\n",
    "    "
   ]
  },
  {
   "cell_type": "code",
   "execution_count": 3,
   "metadata": {},
   "outputs": [
    {
     "name": "stdout",
     "output_type": "stream",
     "text": [
      "v_B = 14.000000 m/s\n"
     ]
    }
   ],
   "source": [
    "h = 30\n",
    "R = 10\n",
    "g = 9.8\n",
    "v_B = sqrt(2*g*(h - 2*R))\n",
    "print(\"v_B = {:f} m/s\".format(v_B))"
   ]
  },
  {
   "cell_type": "markdown",
   "metadata": {},
   "source": [
    "### Part (b)\n",
    "\n",
    "At the top of the loop, normal force and gravity both point down and provide angular acceleration. I'm calling the down direction positive.\n",
    "$$\n",
    "m\\frac{v_B^2}{R} = ma = F_{net} = F_G + F_N = mg + F_N\n",
    "$$\n",
    "$$\n",
    "\\Longrightarrow F_N = m\\frac{v_B^2}{R} - mg = 2mg\\frac{h-2R}{R} - mg = mg\\left(\\frac{2h}{R} - 4 - 1\\right) = mg\n",
    "$$"
   ]
  },
  {
   "cell_type": "code",
   "execution_count": null,
   "metadata": {},
   "outputs": [],
   "source": []
  }
 ],
 "metadata": {
  "kernelspec": {
   "display_name": "Python 3",
   "language": "python",
   "name": "python3"
  },
  "language_info": {
   "codemirror_mode": {
    "name": "ipython",
    "version": 3
   },
   "file_extension": ".py",
   "mimetype": "text/x-python",
   "name": "python",
   "nbconvert_exporter": "python",
   "pygments_lexer": "ipython3",
   "version": "3.7.1"
  }
 },
 "nbformat": 4,
 "nbformat_minor": 2
}

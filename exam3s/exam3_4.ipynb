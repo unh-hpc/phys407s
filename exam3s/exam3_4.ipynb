{
 "cells": [
  {
   "cell_type": "markdown",
   "metadata": {
    "deletable": true,
    "editable": true
   },
   "source": [
    "# HW 8\n",
    "\n",
    "Just generic python setup first, including some helper functions to help with degree-radians conversion, and solving quadratic equations"
   ]
  },
  {
   "cell_type": "code",
   "execution_count": 1,
   "metadata": {
    "collapsed": true,
    "deletable": true,
    "editable": true
   },
   "outputs": [],
   "source": [
    "import numpy as np\n",
    "from numpy import sin, cos, tan, arctan2, sqrt"
   ]
  },
  {
   "cell_type": "code",
   "execution_count": 2,
   "metadata": {
    "collapsed": false,
    "deletable": true,
    "editable": true
   },
   "outputs": [],
   "source": [
    "def rad(th):\n",
    "    return th * np.pi/180\n",
    "\n",
    "def deg(th):\n",
    "    return th * 180/np.pi\n",
    "\n",
    "def quadratic(a, b, c):\n",
    "    return ((-b + sqrt(b**2 - 4*a*c)) / (2*a),\n",
    "            (-b - sqrt(b**2 - 4*a*c)) / (2*a))"
   ]
  },
  {
   "cell_type": "markdown",
   "metadata": {
    "deletable": true,
    "editable": true
   },
   "source": [
    "## Problem 1\n",
    "\n",
    "Here's a sketch\n",
    "\n",
    "![figure](hw8_1.png)\n",
    "\n",
    "### Part a)\n",
    "\n",
    "So let's start with what we know for the motion of the football:\n",
    "$$\n",
    "x_0 = 0, \\qquad y_0 = h\n",
    "$$\n",
    "$$\n",
    "v_{0x} = v_0 \\cos\\theta, \\qquad v_{0y} = v_0 \\sin\\theta\n",
    "$$\n",
    "\n",
    "It is projectile motion. Velocity in the $x$ direction is constant ($a_x = 0$), whereas in the $y$ direction gravity acts: $a_y = -g$. Acceleration is constant, so we can use the corresponding formulas (no calculus needed).\n",
    "\n",
    "We're trying to find the speed of the ball $v_f$ when it hits the ground. We can get that from the $x$ and $y$ components of velocity at the final time:\n",
    "$$\n",
    "v_f = \\sqrt{v_{fx}^2 + v_{fy}^2}\n",
    "$$\n",
    "\n",
    "$v_{fx}$ is easy because $v_x$ is constant, so\n",
    "$$\n",
    "v_{fx} = v_{0x}\n",
    "$$\n",
    "\n",
    "$v_{fy}$ is a bit more work. We could find the final time when the ball hits the ground using $y(t_f) = -\\frac{1}{2}gt_f^2 + v_{0y}t_f + y_0 = 0$ and then plug that into $v_{fy} = v_y(t_f) = -g t_f + v_{0y}$. But it's simpler to use\n",
    "$$\n",
    "v_{fy}^2 - v_{0y}^2 = 2(-g)\\Delta y\n",
    "$$\n",
    "where $\\Delta y = -h$, so \n",
    "$$\n",
    "v_{fy}^2 = v_{0y}^2 + 2 gh\n",
    "$$\n",
    "\n",
    "Plugging the component of $\\vec v_f$ in to find the final speed:\n",
    "$$\n",
    "v_f = \\sqrt{v_{fx}^2 + v_{fy}^2} = \\sqrt{v_{0x}^2 + v_{0y}^2 + 2gh} = \\sqrt{v_0^2 + 2gh}\n",
    "$$\n",
    "\n",
    "### Part b)\n",
    "\n",
    "Conservation of energy makes this much easier. Initially, the ball has kinetic and potential energy:\n",
    "$$E_i = \\frac{1}{2}mv_0^2 + mgh$$\n",
    "\n",
    "As it hit the ground, the potential energy is gone (converted into additional kinetic energy)\n",
    "$$E_f = \\frac{1}{2}mv_f^2$$\n",
    "\n",
    "Energy is conserved (no friction / air resistance):\n",
    "$$E_i = E_f \\Longrightarrow \\frac{1}{2}mv_f^2 = \\frac{1}{2}mv_0^2 + mgh \\Longrightarrow v_f = \\sqrt{v_0^2 + 2gh}$$\n",
    "\n",
    "\n"
   ]
  },
  {
   "cell_type": "code",
   "execution_count": null,
   "metadata": {
    "collapsed": true
   },
   "outputs": [],
   "source": []
  }
 ],
 "metadata": {
  "kernelspec": {
   "display_name": "Python 3",
   "language": "python",
   "name": "python3"
  },
  "language_info": {
   "codemirror_mode": {
    "name": "ipython",
    "version": 3
   },
   "file_extension": ".py",
   "mimetype": "text/x-python",
   "name": "python",
   "nbconvert_exporter": "python",
   "pygments_lexer": "ipython3",
   "version": "3.7.1"
  }
 },
 "nbformat": 4,
 "nbformat_minor": 2
}

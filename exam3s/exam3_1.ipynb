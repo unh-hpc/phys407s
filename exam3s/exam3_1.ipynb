{
 "cells": [
  {
   "cell_type": "markdown",
   "metadata": {
    "deletable": true,
    "editable": true
   },
   "source": [
    "# Sample exam 3\n",
    "\n",
    "Just generic python setup first, including some helper functions to help with degree-radians conversion, and solving quadratic equations"
   ]
  },
  {
   "cell_type": "code",
   "execution_count": 2,
   "metadata": {
    "collapsed": true,
    "deletable": true,
    "editable": true
   },
   "outputs": [],
   "source": [
    "import numpy as np\n",
    "from numpy import sin, cos, tan, arctan2, sqrt"
   ]
  },
  {
   "cell_type": "code",
   "execution_count": 3,
   "metadata": {
    "collapsed": false,
    "deletable": true,
    "editable": true
   },
   "outputs": [],
   "source": [
    "def rad(th):\n",
    "    return th * np.pi/180\n",
    "\n",
    "def deg(th):\n",
    "    return th * 180/np.pi\n",
    "\n",
    "def quadratic(a, b, c):\n",
    "    return ((-b + sqrt(b**2 - 4*a*c)) / (2*a),\n",
    "            (-b - sqrt(b**2 - 4*a*c)) / (2*a))"
   ]
  },
  {
   "cell_type": "markdown",
   "metadata": {
    "deletable": true,
    "editable": true
   },
   "source": [
    "## Problem 1\n",
    "\n",
    "### Part (a)\n",
    "\n",
    "Momentum is (approximately) conserved in this situation, as it is basically a (completely inelastic) collision. Catching the snow ball happens quickly, and the external forces (gravity, normal force, friction) can be neglected over that short time, in as far as they don't cancel out already, anyway (normal force and gravity on Cartman cancel, anyway)\n",
    "\n",
    "### Part (b)\n",
    "\n",
    "So we'll use $\\vec p_i = \\vec p_f$. I'm using the subscripts $C$ and $S$ for Cartman and the snowball, respectively\n",
    "$$\n",
    "m_C \\vec v_{Ci} + m_S \\vec v_{Si} = (m_C + m_S) \\vec v_f \\Longrightarrow \\vec v_f = \\frac{m_C \\vec v_{Ci} + m_S \\vec v_{Si}}{m_C + m_S}\n",
    "$$\n",
    "We have to write our vectors in components, and plug them in.\n",
    "\\begin{align}\n",
    "\\vec v_{Ci} &= v_C (-\\cos 45^\\circ \\hat i + \\sin 45^\\circ \\hat j)\\\\\n",
    "\\vec v_{Si} &= v_S (\\cos 30^\\circ \\hat i + \\sin 30^\\circ \\hat j)\\\\\n",
    "\\end{align}"
   ]
  },
  {
   "cell_type": "code",
   "execution_count": 15,
   "metadata": {
    "collapsed": true
   },
   "outputs": [
    {
     "name": "stdout",
     "output_type": "stream",
     "text": [
      "v_f in components: -1.502903 mph, 3.779612 mph\n",
      "speed v_f 4.067454 angle 111.684457\n"
     ]
    }
   ],
   "source": [
    "m_C = 100\n",
    "v_C = 5\n",
    "m_S = 20\n",
    "v_S = 10\n",
    "p_Ci = m_C * v_C * np.array([-cos(rad(45)), sin(rad(45))])\n",
    "p_Si = m_S * v_S * np.array([cos(rad(30)), sin(rad(30))])\n",
    "p_i = p_Ci + p_Si\n",
    "p_f = p_i\n",
    "v_f = p_f / (m_C + m_S)\n",
    "print(\"v_f in components: {:f} mph, {:f} mph\".format(v_f[0], v_f[1]))\n",
    "print(\"speed v_f {:f} mph angle {:f}\".format((v_f[0]**2+v_f[1]**2)**.5, deg(np.arctan2(v_f[1], v_f[0]))))"
   ]
  },
  {
   "cell_type": "markdown",
   "metadata": {},
   "source": [
    "So 4.1 mph $112^\\circ$ counterclockwise from the x (east) axis, that is, $22^\\circ$ W of N."
   ]
  },
  {
   "cell_type": "code",
   "execution_count": null,
   "metadata": {},
   "outputs": [],
   "source": []
  }
 ],
 "metadata": {
  "kernelspec": {
   "display_name": "Python 3",
   "language": "python",
   "name": "python3"
  },
  "language_info": {
   "codemirror_mode": {
    "name": "ipython",
    "version": 3
   },
   "file_extension": ".py",
   "mimetype": "text/x-python",
   "name": "python",
   "nbconvert_exporter": "python",
   "pygments_lexer": "ipython3",
   "version": "3.7.1"
  }
 },
 "nbformat": 4,
 "nbformat_minor": 2
}

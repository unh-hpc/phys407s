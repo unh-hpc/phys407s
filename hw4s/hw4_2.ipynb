{
 "cells": [
  {
   "cell_type": "markdown",
   "metadata": {
    "deletable": true,
    "editable": true
   },
   "source": [
    "# HW 4\n",
    "\n",
    "Just generic python setup first, including some helper functions to help with degree-radians conversion, and solving quadratic equations"
   ]
  },
  {
   "cell_type": "code",
   "execution_count": 1,
   "metadata": {
    "collapsed": true,
    "deletable": true,
    "editable": true
   },
   "outputs": [],
   "source": [
    "import numpy as np\n",
    "from numpy import sin, cos, tan, arctan2, sqrt"
   ]
  },
  {
   "cell_type": "code",
   "execution_count": 2,
   "metadata": {
    "collapsed": false,
    "deletable": true,
    "editable": true
   },
   "outputs": [],
   "source": [
    "def rad(th):\n",
    "    return th * np.pi/180\n",
    "\n",
    "def deg(th):\n",
    "    return th * 180/np.pi\n",
    "\n",
    "def quadratic(a, b, c):\n",
    "    return ((-b + sqrt(b**2 - 4*a*c)) / (2*a),\n",
    "            (-b - sqrt(b**2 - 4*a*c)) / (2*a))"
   ]
  },
  {
   "cell_type": "markdown",
   "metadata": {
    "collapsed": true,
    "deletable": true,
    "editable": true
   },
   "source": [
    "## Problem 2\n",
    "\n",
    "Let's think about the forces acting on a small piece of rope at the center of the rope.\n",
    "\n",
    "Sketch | FBD\n",
    "- | -\n",
    "![figure](hw4_2f1.png) | ![figure](hw4_2f2.png)\n",
    "\n",
    "In order for the small piece to not move, $\\vec F_{net}$ has to be zero.\n",
    "\n",
    "There is definitely a force of gravity acting on the piece of rope (even though it may be small if it's a small piece of rope), trying to pull the rope down. It doesn't because it's canceled by the tension forces, which therefore need to be pointing up by at least some amount. If the rope was perfectly horizontal, the tension forces would be perfectly horizontal as well, and hence could not cancel out gravity -- the piece of rope would start moving down, until there is enough of a vertical componenent of tension to cancel out gravity.\n",
    "\n",
    "(A massless rope, however, would happily be straight horizontal, but those are hard to come by)\n"
   ]
  }
 ],
 "metadata": {
  "kernelspec": {
   "display_name": "Python 3",
   "language": "python",
   "name": "python3"
  },
  "language_info": {
   "codemirror_mode": {
    "name": "ipython",
    "version": 3
   },
   "file_extension": ".py",
   "mimetype": "text/x-python",
   "name": "python",
   "nbconvert_exporter": "python",
   "pygments_lexer": "ipython3",
   "version": "3.4.8"
  }
 },
 "nbformat": 4,
 "nbformat_minor": 2
}

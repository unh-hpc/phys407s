{
 "cells": [
  {
   "cell_type": "markdown",
   "metadata": {
    "deletable": true,
    "editable": true
   },
   "source": [
    "# HW 4\n",
    "\n",
    "Just generic python setup first, including some helper functions to help with degree-radians conversion, and solving quadratic equations"
   ]
  },
  {
   "cell_type": "code",
   "execution_count": 1,
   "metadata": {
    "collapsed": true,
    "deletable": true,
    "editable": true
   },
   "outputs": [],
   "source": [
    "import numpy as np\n",
    "from numpy import sin, cos, tan, arctan2, sqrt"
   ]
  },
  {
   "cell_type": "code",
   "execution_count": 2,
   "metadata": {
    "collapsed": false,
    "deletable": true,
    "editable": true
   },
   "outputs": [],
   "source": [
    "def rad(th):\n",
    "    return th * np.pi/180\n",
    "\n",
    "def deg(th):\n",
    "    return th * 180/np.pi\n",
    "\n",
    "def quadratic(a, b, c):\n",
    "    return ((-b + sqrt(b**2 - 4*a*c)) / (2*a),\n",
    "            (-b - sqrt(b**2 - 4*a*c)) / (2*a))"
   ]
  },
  {
   "cell_type": "markdown",
   "metadata": {
    "collapsed": true,
    "deletable": true,
    "editable": true
   },
   "source": [
    "## Problem 3\n",
    "\n",
    "A sketch and a free-body diagram will help:\n",
    "\n",
    "Sketch | FBD\n",
    "- | -\n",
    "![figure](hw4_3f1.png) | ![figure](hw4_3f2.png)\n",
    "\n",
    "This problem is similar to the first problem, but not as nicely symmetric.\n",
    "\n",
    "Given: $L_1 = 0.8$ m, $L_2 = 0.6$ m, $D = 1.2$ m, $F_G = 150$ N.\n"
   ]
  },
  {
   "cell_type": "code",
   "execution_count": 3,
   "metadata": {
    "collapsed": true
   },
   "outputs": [],
   "source": [
    "L1 = 0.8\n",
    "L2 = 0.6\n",
    "D = 1.2\n",
    "FG = 150"
   ]
  },
  {
   "cell_type": "markdown",
   "metadata": {},
   "source": [
    "### Part a)\n",
    "\n",
    "The first issue here is that the geometry isn't as straightforward as earlier, that is, we need information about the two smaller triangles visible above. The angles $\\theta_1$ and $\\theta_2$ can be determined with the Law of Cosines, but also with some more basic trigonometry, the approach I'm choosing here:\n",
    "\n",
    "Clearly, $D = d_1 + d_2$. The two smaller triangles have a right angles, so the Pythagorean Theorem applies:\n",
    "\\begin{align}\n",
    "d_1^2 + H^2 = L_1^2 \\text{ and } d_2^2 + H^2 = L_2^2\\\\\n",
    "H^2 = L_1^2 - d_1^2 \\text{ and } H^2 = L_2^2 - d_2^2\\\\\n",
    "\\end{align}\n",
    "\n",
    "Since both expressions in the last line are equal to $H^2$, they are equal to each other:\n",
    "\n",
    "\\begin{align}\n",
    "&L_1^2 - d_1^2 = L_2^2 - d_2^2 = L_2^2 - (D - d_1)^2\\\\\n",
    "\\Longrightarrow\\qquad& L_1^2 - d_1^2 = L_2^2 - D^2 + 2Dd_1 - d_1^2\\\\\n",
    "\\Longrightarrow\\qquad& L_1^2 = L_2^2 - D^2 + 2Dd_1\\\\\n",
    "\\end{align}\n",
    "\n",
    "We can solve this for $d_1$:\n",
    "$$\n",
    "d_1 = \\frac{L_1^2 - L_2^2 + D^2}{2D}\n",
    "$$"
   ]
  },
  {
   "cell_type": "markdown",
   "metadata": {},
   "source": [
    "I'll calculate the sines and cosines of the two angles, because that's what I'll need later:\n",
    "\\begin{align}\n",
    "\\sin\\theta_1 &= \\frac{d_1}{L_1} = \\frac{L_1^2 - L_2^2 + D^2}{2DL_1}\n",
    "\\sin\\theta_2 &= \\frac{d_2}{L_2} = \\frac{L_2^2 - L_1^2 + D^2}{2DL_2}\n",
    "\\end{align}\n",
    "The cosines I'll get from $\\sin^2 + \\cos^2 = 1$."
   ]
  },
  {
   "cell_type": "code",
   "execution_count": 4,
   "metadata": {
    "collapsed": false
   },
   "outputs": [
    {
     "name": "stdout",
     "output_type": "stream",
     "text": [
      "sin theta1 = 0.895833 sin theta2 = 0.805556\n",
      "cos theta1 = 0.444390 cos theta2 = 0.592520\n"
     ]
    }
   ],
   "source": [
    "sin1 = (L1**2 - L2**2 + D**2) / (2*D*L1)\n",
    "sin2 = (L2**2 - L1**2 + D**2) / (2*D*L2)\n",
    "cos1 = (1 - sin1**2)**.5\n",
    "cos2 = (1 - sin2**2)**.5\n",
    "print(\"sin theta1 = {:f} sin theta2 = {:f}\".format(sin1, sin2))\n",
    "print(\"cos theta1 = {:f} cos theta2 = {:f}\".format(cos1, cos2))"
   ]
  },
  {
   "cell_type": "markdown",
   "metadata": {},
   "source": [
    "For the record, here are the actual angles, though I'm not using them directly:"
   ]
  },
  {
   "cell_type": "code",
   "execution_count": 5,
   "metadata": {
    "collapsed": false
   },
   "outputs": [
    {
     "name": "stdout",
     "output_type": "stream",
     "text": [
      "theta1 = 63.615670 theta2 = 53.663942\n"
     ]
    }
   ],
   "source": [
    "print(\"theta1 = {:f} theta2 = {:f}\".format(deg(np.arcsin(sin1)), deg(np.arcsin(sin2))))"
   ]
  },
  {
   "cell_type": "markdown",
   "metadata": {},
   "source": [
    "I already included the wind force in my FBD, so I'll work the general case first, and then I can set $F_W = 0$ for the no-wind case.\n",
    "\n",
    "From the FBD, I'll look at components of the net force, which need to vanish (static equilibrium)\n",
    "\n",
    "\\begin{align}\n",
    "0 &= F_{net,x} = -T_1\\sin\\theta1 + T_2\\sin\\theta2 + F_w\\\\\n",
    "0 &= F_{net,y} = T_1\\cos\\theta1 + T_2\\cos\\theta2 - F_G\\\\\n",
    "\\end{align}\n",
    "\n",
    "I'll solve both equations for $T_1$:\n",
    "\\begin{align}\n",
    "T_1 &= \\frac{T_2\\sin\\theta_2 + F_W}{\\sin\\theta_1}\\\\\n",
    "T_1 &= \\frac{-T_2\\cos\\theta_2 + F_G}{\\cos\\theta_1}\n",
    "\\end{align}\n",
    "\n",
    "Setting those two equal and more math...\n",
    "\\begin{align}\n",
    "(T_2\\sin\\theta_2 + F_W) \\cos\\theta_1 = (F_G - T_2\\cos\\theta_2)\\sin\\theta_1\\\\\n",
    "T_2 \\sin\\theta_2\\cos\\theta_1 + F_W \\cos\\theta_1 = F_G\\sin\\theta-1 - T_2\\sin\\theta_1\\cos\\theta_2\\\\\n",
    "T_2 = \\frac{F_G\\sin \\theta_1 - F_W\\cos \\theta_1}{\\sin\\theta_2\\cos\\theta_1 + \\sin\\theta_1\\cos\\theta_2}\\\\\n",
    "\\end{align}\n",
    "\n",
    "Once I plug in the numbers and have $T_2$, I can plug that back into either equation above for $T_1$ to find that, too.\n",
    "\n",
    "### Part a)"
   ]
  },
  {
   "cell_type": "code",
   "execution_count": 6,
   "metadata": {
    "collapsed": true
   },
   "outputs": [],
   "source": [
    "def tensions(FW):\n",
    "    T2 = (FG*sin1 - FW*cos1) / (sin2*cos1 + sin1*cos2)\n",
    "    T1 = (T2*sin2 + FW) / sin1\n",
    "    print(\"T1 = {:f}, T2 = {:F}\".format(T1, T2))"
   ]
  },
  {
   "cell_type": "code",
   "execution_count": 7,
   "metadata": {
    "collapsed": false
   },
   "outputs": [
    {
     "name": "stdout",
     "output_type": "stream",
     "text": [
      "T1 = 135.954097, T2 = 151.190332\n"
     ]
    }
   ],
   "source": [
    "tensions(0)"
   ]
  },
  {
   "cell_type": "markdown",
   "metadata": {},
   "source": [
    "### Part B\n",
    "\n",
    "Now the wind is blowing and pushing with 70 N."
   ]
  },
  {
   "cell_type": "code",
   "execution_count": 8,
   "metadata": {
    "collapsed": false
   },
   "outputs": [
    {
     "name": "stdout",
     "output_type": "stream",
     "text": [
      "T1 = 182.620764, T2 = 116.190332\n"
     ]
    }
   ],
   "source": [
    "tensions(70)"
   ]
  },
  {
   "cell_type": "code",
   "execution_count": null,
   "metadata": {
    "collapsed": true
   },
   "outputs": [],
   "source": []
  }
 ],
 "metadata": {
  "kernelspec": {
   "display_name": "Python 3",
   "language": "python",
   "name": "python3"
  },
  "language_info": {
   "codemirror_mode": {
    "name": "ipython",
    "version": 3
   },
   "file_extension": ".py",
   "mimetype": "text/x-python",
   "name": "python",
   "nbconvert_exporter": "python",
   "pygments_lexer": "ipython3",
   "version": "3.4.8"
  }
 },
 "nbformat": 4,
 "nbformat_minor": 2
}

{
 "cells": [
  {
   "cell_type": "markdown",
   "metadata": {
    "deletable": true,
    "editable": true
   },
   "source": [
    "# HW 4\n",
    "\n",
    "Just generic python setup first, including some helper functions to help with degree-radians conversion, and solving quadratic equations"
   ]
  },
  {
   "cell_type": "code",
   "execution_count": 1,
   "metadata": {
    "collapsed": true,
    "deletable": true,
    "editable": true
   },
   "outputs": [],
   "source": [
    "import numpy as np\n",
    "from numpy import sin, cos, tan, arctan2, sqrt"
   ]
  },
  {
   "cell_type": "code",
   "execution_count": 2,
   "metadata": {
    "collapsed": false,
    "deletable": true,
    "editable": true
   },
   "outputs": [],
   "source": [
    "def rad(th):\n",
    "    return th * np.pi/180\n",
    "\n",
    "def deg(th):\n",
    "    return th * 180/np.pi\n",
    "\n",
    "def quadratic(a, b, c):\n",
    "    return ((-b + sqrt(b**2 - 4*a*c)) / (2*a),\n",
    "            (-b - sqrt(b**2 - 4*a*c)) / (2*a))"
   ]
  },
  {
   "cell_type": "markdown",
   "metadata": {
    "collapsed": true,
    "deletable": true,
    "editable": true
   },
   "source": [
    "## Problem 1\n",
    "\n",
    "### Part a)\n",
    "\n",
    "Let's start with a sketch / FBD:\n",
    "\n",
    "![figure](hw4_1f1.png)\n",
    "\n",
    "Here are the three force acting on the loudspeaker, using vector component notation.\n",
    "\n",
    "\\begin{align}\n",
    "\\vec F_G &= - F_G \\hat j\\\\\n",
    "\\vec F_{T1} &= -T_1 \\sin \\theta \\hat i + T_1 \\cos \\theta \\hat j\\\\\n",
    "\\vec F_{T2} &=  T_2 \\sin \\theta \\hat i + T_2 \\cos \\theta \\hat j\\\\\n",
    "\\end{align}\n",
    "\n",
    "Since the loudspeaker is in static equilibrium $\\vec F_{net} = \\vec 0$, which means both $x$ and $y$ components vanish.\n",
    "\n",
    "\\begin{align}\n",
    "0 = F_{net,x} &= -T_1 \\sin\\theta + T_2 \\sin\\theta\\\\\n",
    "0 = F_{net,y} &= T_1 \\cos\\theta + T_2 \\cos\\theta - F_G\\\\\n",
    "\\end{align}\n",
    "\n",
    "From the first equation, we can see that the two tensions have to be equal, as long as $\\sin \\theta \\ne 0$:\n",
    "$$\n",
    "0 = (T_2 - T_1) \\sin\\theta \\Longrightarrow T_1 = T_2\n",
    "$$\n",
    "\n",
    "So we'll just call the tension $T = T_1 = T_2$, and the y component of Newton's 2nd Law let's us find its value:\n",
    "\\begin{align}\n",
    "&(T_1 + T_2) \\cos\\theta = F_G\\\\\n",
    "\\Longrightarrow \\qquad & 2T\\cos\\theta = F_G\\\\\n",
    "\\Longrightarrow \\qquad & T = \\frac{F_G}{2\\cos\\theta}\n",
    "\\end{align}"
   ]
  },
  {
   "cell_type": "markdown",
   "metadata": {},
   "source": [
    "In order to find an actual value, I still need to find $\\cos\\theta$, which can be found from the geometry sketched above:\n",
    "$$\n",
    "\\cos\\theta = \\frac{H}{L} \\Longrightarrow T = T_1 = T_2 = \\frac{L}{2H}F_G\n",
    "$$\n",
    "\n",
    "Plugging in numbers:"
   ]
  },
  {
   "cell_type": "code",
   "execution_count": 4,
   "metadata": {
    "collapsed": false,
    "deletable": true,
    "editable": true
   },
   "outputs": [
    {
     "name": "stdout",
     "output_type": "stream",
     "text": [
      "tension T = 15.750000\n"
     ]
    }
   ],
   "source": [
    "L = 2.7\n",
    "H = 1.8\n",
    "FG = 21\n",
    "T = L/(2*H) * FG\n",
    "print(\"tension T = {:f}\".format(T))"
   ]
  },
  {
   "cell_type": "markdown",
   "metadata": {
    "collapsed": true,
    "deletable": true,
    "editable": true
   },
   "source": [
    "### Part b)\n",
    "\n",
    "If the cables were attached closer to each other, the loudspeaker would be lowered, so $H$ increases. Our formula then indicates that the tension would decrease, as $H$ appears in the denominator. That makes sense, since if once were to move the two cables to be mounted right next to each other, each cable would carry half of the weight, ie., 10.5 Newtons which is lower than the original tension, which we just calculated to be about 16 Newtons."
   ]
  },
  {
   "cell_type": "code",
   "execution_count": null,
   "metadata": {
    "collapsed": true
   },
   "outputs": [],
   "source": []
  }
 ],
 "metadata": {
  "kernelspec": {
   "display_name": "Python 3",
   "language": "python",
   "name": "python3"
  },
  "language_info": {
   "codemirror_mode": {
    "name": "ipython",
    "version": 3
   },
   "file_extension": ".py",
   "mimetype": "text/x-python",
   "name": "python",
   "nbconvert_exporter": "python",
   "pygments_lexer": "ipython3",
   "version": "3.4.8"
  }
 },
 "nbformat": 4,
 "nbformat_minor": 2
}

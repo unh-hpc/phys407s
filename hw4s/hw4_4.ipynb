{
 "cells": [
  {
   "cell_type": "markdown",
   "metadata": {
    "deletable": true,
    "editable": true
   },
   "source": [
    "# HW 4\n",
    "\n",
    "Just generic python setup first, including some helper functions to help with degree-radians conversion, and solving quadratic equations"
   ]
  },
  {
   "cell_type": "code",
   "execution_count": 1,
   "metadata": {
    "collapsed": true,
    "deletable": true,
    "editable": true
   },
   "outputs": [],
   "source": [
    "import numpy as np\n",
    "from numpy import sin, cos, tan, arctan2, sqrt"
   ]
  },
  {
   "cell_type": "code",
   "execution_count": 2,
   "metadata": {
    "collapsed": false,
    "deletable": true,
    "editable": true
   },
   "outputs": [],
   "source": [
    "def rad(th):\n",
    "    return th * np.pi/180\n",
    "\n",
    "def deg(th):\n",
    "    return th * 180/np.pi\n",
    "\n",
    "def quadratic(a, b, c):\n",
    "    return ((-b + sqrt(b**2 - 4*a*c)) / (2*a),\n",
    "            (-b - sqrt(b**2 - 4*a*c)) / (2*a))"
   ]
  },
  {
   "cell_type": "markdown",
   "metadata": {
    "collapsed": true,
    "deletable": true,
    "editable": true
   },
   "source": [
    "## Problem 4\n",
    "\n",
    "Here's a sketch / FBD:\n",
    "\n",
    "![figure](hw4_4f1.png)\n",
    "\n"
   ]
  },
  {
   "cell_type": "markdown",
   "metadata": {
    "collapsed": true,
    "deletable": true,
    "editable": true
   },
   "source": [
    "### Part a)\n",
    "\n",
    "At the verge of sliding, friction is still static but at it's largest possible value:\n",
    "$$\n",
    "F_f = \\mu_s F_N\n",
    "$$\n",
    "\n",
    "Since the child isn't sliding quite yet, the net force still vanishes. Let's look at it component by component.\n",
    "\n",
    "\\begin{align}\n",
    "0 = F_{net, y} = F_N - F_G\\cos\\theta \\Longrightarrow F_N = mg\\cos\\theta\\\\\n",
    "0 = F_{net, x} = F_G\\sin\\theta - \\mu_s F_N\\\\\n",
    "\\end{align}\n",
    "\n",
    "Taking the second equation and plugging in $F_N$ from the first equation:\n",
    "$$\n",
    "0 = mg\\sin\\theta - \\mu_s mg\\cos\\theta\n",
    "\\Longrightarrow \\mu_s \\cos\\theta = \\sin\\theta\n",
    "\\Longrightarrow \\mu_s = \\tan\\theta \\text{ or } \\theta = \\tan^{-1} \\mu_s\n",
    "$$\n",
    "\n",
    "So we found the critical angle $\\theta_C$ to satisfy $\\mu_s = \\tan\\theta_C$.\n"
   ]
  },
  {
   "cell_type": "markdown",
   "metadata": {},
   "source": [
    "### Part b)\n",
    "\n",
    "#### i)\n",
    "\n",
    "I can use the same FBD, now that the kid is sliding, friction is now kinetic and there is some actual acceleration in the $x$ direction. Nothing changed in $y$, though, so I can still use $F_N = mg\\cos\\theta$.\n",
    "\n",
    "Newton's 2nd Law in $X$:\n",
    "$$\n",
    "m a_x = F_{net,x} = F_G \\sin\\theta - \\mu_k F_N\n",
    "$$\n",
    "Plugging in $F_N$ and solving for $a_x$:\n",
    "$$\n",
    "a_x = g\\sin\\theta - \\mu_k g \\cos\\theta\n",
    "$$"
   ]
  },
  {
   "cell_type": "markdown",
   "metadata": {},
   "source": [
    "#### ii) It's one dimensional motion at constant acceleration (the $a_x$ we just found does not change in time). Since there is no initial velocity,\n",
    "$$\n",
    "L = x(t_f) = \\frac{1}{2}a_xt^2\n",
    "$$\n",
    "which we can solve for $t_f$:\n",
    "$$\n",
    "t_f = \\sqrt{\\frac{2L}{a_x}}\n",
    " = \\sqrt{\\frac{2L}{g\\sin\\theta - \\mu_k g \\cos\\theta}}\n",
    "$$\n"
   ]
  },
  {
   "cell_type": "markdown",
   "metadata": {},
   "source": [
    "#### iii)\n",
    "\n",
    "The time $t_{nf}$ (\"no-friction\") for a frictionless slide would be the same formula, where we just set $\\mu_k = 0$.\n",
    "\n",
    "$$\n",
    "t_{nf} \n",
    " = \\sqrt{\\frac{2L}{g\\sin\\theta}}\n",
    "$$\n",
    "\n",
    "If that time is half of the time with friction:\n",
    "$$\n",
    "t_{nf} = \\frac{1}{2}t_f\n",
    "$$\n",
    "we can plug in the formulas and solve:\n",
    "$$\n",
    "\\sqrt{\\frac{2L}{g\\sin\\theta}} = \\frac{1}{2}\\sqrt{\\frac{2L}{g\\sin\\theta - \\mu_k g \\cos\\theta}}\n",
    "$$\n",
    "\n",
    "Squaring this equation gives\n",
    "$$\n",
    "\\frac{2L}{g\\sin\\theta} = \\frac{1}{4}\\frac{2L}{g\\sin\\theta - \\mu_k g \\cos\\theta}\n",
    "$$\n",
    "\n",
    "Let's cancel out the $2L/g$ and take the inverse\n",
    "$$\n",
    "\\sin\\theta = 4\\sin\\theta - 4\\mu_k \\cos\\theta\n",
    "$$\n",
    "\n",
    "Which can be solved for $mu_k$\n",
    "$$ 4\\mu_k \\cos\\theta = 3\\sin\\theta \\Longrightarrow \\mu_k = \\frac{3\\sin\\theta}{4\\cos\\theta} =\\frac{3}{4}\\tan\\theta$$\n",
    "\n",
    "In particular, for $\\theta = 45^\\circ$, we get $\\mu_k = 0.75$."
   ]
  },
  {
   "cell_type": "code",
   "execution_count": null,
   "metadata": {
    "collapsed": true
   },
   "outputs": [],
   "source": []
  }
 ],
 "metadata": {
  "kernelspec": {
   "display_name": "Python 3",
   "language": "python",
   "name": "python3"
  },
  "language_info": {
   "codemirror_mode": {
    "name": "ipython",
    "version": 3
   },
   "file_extension": ".py",
   "mimetype": "text/x-python",
   "name": "python",
   "nbconvert_exporter": "python",
   "pygments_lexer": "ipython3",
   "version": "3.4.8"
  }
 },
 "nbformat": 4,
 "nbformat_minor": 2
}

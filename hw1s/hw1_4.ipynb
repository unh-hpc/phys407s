{
 "cells": [
  {
   "cell_type": "markdown",
   "metadata": {
    "deletable": true,
    "editable": true
   },
   "source": [
    "# HW 1\n",
    "## Problem 4"
   ]
  },
  {
   "cell_type": "code",
   "execution_count": 11,
   "metadata": {
    "collapsed": true,
    "deletable": true,
    "editable": true
   },
   "outputs": [],
   "source": [
    "# Some python setup first\n",
    "import numpy as np\n",
    "from numpy import sin, cos, tan, arctan2, sqrt\n",
    "\n",
    "def quadratic(a, b, c):\n",
    "    return ((-b + sqrt(b**2 - 4*a*c)) / (2*a),\n",
    "            (-b - sqrt(b**2 - 4*a*c)) / (2*a))"
   ]
  },
  {
   "cell_type": "markdown",
   "metadata": {
    "collapsed": true,
    "deletable": true,
    "editable": true
   },
   "source": [
    "Let's start with a sketch of the car traveling and braking.\n",
    "\n",
    "![hw1_4](hw1_4.png)\n",
    "\n",
    "And use variables for the various quantities:\n",
    "\n",
    "$v_0 = 20$ m/s, $a = -10$ m/s, $t_R = 0.5$ s, $d=35$ m."
   ]
  },
  {
   "cell_type": "code",
   "execution_count": 2,
   "metadata": {
    "collapsed": true,
    "deletable": true,
    "editable": true
   },
   "outputs": [],
   "source": [
    "v0 = 20.\n",
    "a = -10.\n",
    "tR = 0.5\n",
    "d = 35."
   ]
  },
  {
   "cell_type": "markdown",
   "metadata": {
    "deletable": true,
    "editable": true
   },
   "source": [
    "The problem can be solved graphically or with formulas.\n",
    "\n",
    "### Graphical solution\n",
    "\n",
    "We can draw a velocity vs time graph from the given information: velocity starts at $v_0$, remains constant during the reaction time and then decreases at a rate of $a$ until the car comes to a stop ($v = 0$).\n",
    "\n",
    "![hw1_4a.png](hw1_4a.png)\n",
    "\n",
    "After 0.5 s, the car is still going 20 m/s. One second later, the velocity decreased by -10 m/s$^2$ $\\cdot$ 1 s, so it's 10 m/s, and another second later it decreased by another 10 m/s to zero, so the braking time $t_B$ can be easily seen to be 2 seconds. More generally, we could use the formulate for velocity at constant acceleration.\n",
    "\n",
    "$$v(t) = v_0 + a t$$\n",
    "\n",
    "After the braking time $t_B$, the car comes to a stop, that is\n",
    "$$0 = v(t_B) = v_0 + at_B \\Longrightarrow t_B = -\\frac{v_0}{a}$$\n",
    "and as you see in the following box t_B in fact comes out to be 2.0 s."
   ]
  },
  {
   "cell_type": "code",
   "execution_count": 5,
   "metadata": {
    "collapsed": false,
    "deletable": true,
    "editable": true
   },
   "outputs": [
    {
     "data": {
      "text/plain": [
       "2.0"
      ]
     },
     "execution_count": 5,
     "metadata": {},
     "output_type": "execute_result"
    }
   ],
   "source": [
    "tB = - v0/a\n",
    "tB"
   ]
  },
  {
   "cell_type": "markdown",
   "metadata": {
    "deletable": true,
    "editable": true
   },
   "source": [
    "The total distance $x_f$ traveled during reaction time and braking is just the area under the graph above, that is, the sum of a rectangle and a triangle:\n",
    "$$x_f = v_0 t_R + \\frac{1}{2} v_0 t_B,$$\n",
    "so we can plug in the numbers to find $x_f = 30$ m:"
   ]
  },
  {
   "cell_type": "code",
   "execution_count": 6,
   "metadata": {
    "collapsed": false,
    "deletable": true,
    "editable": true
   },
   "outputs": [
    {
     "data": {
      "text/plain": [
       "30.0"
      ]
     },
     "execution_count": 6,
     "metadata": {},
     "output_type": "execute_result"
    }
   ],
   "source": [
    "xf = v0 * tR + .5 * v0 * tB\n",
    "xf"
   ]
  },
  {
   "cell_type": "markdown",
   "metadata": {
    "deletable": true,
    "editable": true
   },
   "source": [
    "Since the deer was 35 m away, the car managed to stop in time with 5 m to spare."
   ]
  },
  {
   "cell_type": "markdown",
   "metadata": {
    "deletable": true,
    "editable": true
   },
   "source": [
    "# Analytic solution"
   ]
  },
  {
   "cell_type": "markdown",
   "metadata": {
    "deletable": true,
    "editable": true
   },
   "source": [
    "Instead, I could solve the problem just using the formulas for motion at constant acceleration.\n",
    "\n",
    "During the reaction time, velocity is constant (acceleration is zero), so the car travels a distance $x_R$\n",
    "$$\n",
    "x_R = v_0 t_R\n",
    "$$\n",
    "\n",
    "During the braking part, velocity drops until it hits zero, so we use $v(t) = v_0 + at$ just as above and find\n",
    "$$\n",
    "t_B = -\\frac{v_0}{a}\n",
    "$$\n",
    "The distance traveled while braking $x_B$ can be found from\n",
    "$$\n",
    "x_B = x(t_B) = \\frac{1}{2}at_B^2 + v_0t_B\n",
    "$$\n",
    "and then those distances can be added up to find the total distance traveled \n",
    "$$\n",
    "x_f = x_R + x_B\n",
    "$$\n",
    "\n",
    "Plugging in $x_R, x_B$, we find\n",
    "$$\n",
    "x_f = v_0 t_R + \\frac{1}{2} a t_B^2 + v_0 t_B\n",
    "$$\n",
    "\n",
    "and finally plugging in $t_B$ as well\n",
    "$$\n",
    "x_f = v_0 t_R + \\frac{1}{2} \\frac{v_0^2}{a} - \\frac{v_0^2}{a} = v_0 t_R - \\frac{v_0^2}{2a}\n",
    "$$\n",
    "\n",
    "Plugging in numbers, we should get the same answer as before:"
   ]
  },
  {
   "cell_type": "code",
   "execution_count": 9,
   "metadata": {
    "collapsed": false,
    "deletable": true,
    "editable": true
   },
   "outputs": [
    {
     "data": {
      "text/plain": [
       "30.0"
      ]
     },
     "execution_count": 9,
     "metadata": {},
     "output_type": "execute_result"
    }
   ],
   "source": [
    "xf = v0 * tR - v0**2 / (2*a)\n",
    "xf"
   ]
  },
  {
   "cell_type": "markdown",
   "metadata": {
    "deletable": true,
    "editable": true
   },
   "source": [
    "As a by the way comment, in class you've derived the \"3rd law of kinematics\"\n",
    "$$\n",
    "v_f^2 - v_i^2 = 2 a \\Delta x\n",
    "$$\n",
    "which can be used the find the braking distance directly, using $v_i = v_0$, $v_f = 0$, we get $x_B = \\Delta x = - \\frac{v_0^2}{2a}$ as well."
   ]
  },
  {
   "cell_type": "markdown",
   "metadata": {
    "deletable": true,
    "editable": true
   },
   "source": [
    "### Maximum speed to (just) not hit the deer\n",
    "\n",
    "Since we already did our calculation with variables / formulas, find the max speed the car can go while still braking in time is not too bad. What we're looking for is: What is the $v_0$ such that $x_f = d = 35$ m?\n",
    "\n",
    "$$\n",
    "d = x_f = v_0 t_R - \\frac{v_0^2}{2a}\n",
    "$$\n",
    "or\n",
    "$$\n",
    "- \\frac{1}{2a}v_0^2 + t_R v_0 - d = 0\n",
    "$$\n",
    "where everything is known but $v_0$, so we can solve the quadratic equation $Av_0^2 + Bv_0 + C = 0$ with\n",
    "$$\n",
    "A = -\\frac{1}{2a}, B = t_R, C = -d\n",
    "$$"
   ]
  },
  {
   "cell_type": "code",
   "execution_count": 12,
   "metadata": {
    "collapsed": true,
    "deletable": true,
    "editable": true
   },
   "outputs": [],
   "source": [
    "A = -1./(2*a)\n",
    "B = tR\n",
    "C = -d"
   ]
  },
  {
   "cell_type": "code",
   "execution_count": 13,
   "metadata": {
    "collapsed": false,
    "deletable": true,
    "editable": true
   },
   "outputs": [
    {
     "data": {
      "text/plain": [
       "(21.925824035672516, -31.925824035672516)"
      ]
     },
     "execution_count": 13,
     "metadata": {},
     "output_type": "execute_result"
    }
   ],
   "source": [
    "v0_p, v0_m = quadratic(A, B, C)\n",
    "v0_p, v0_m"
   ]
  },
  {
   "cell_type": "markdown",
   "metadata": {
    "deletable": true,
    "editable": true
   },
   "source": [
    "We need a positive initial velocity, so we found the maximum speed to be $21.9$ m/s. That answer is slightly larger than the 20 m/s which left 5 m to spare, which makes sense. (Maybe it's worth pointing out that just a very small increase in velocity of less than 2 m/s increased the braking distance enough to change the situation from fairly safe to borderline.)"
   ]
  },
  {
   "cell_type": "code",
   "execution_count": null,
   "metadata": {
    "collapsed": true,
    "deletable": true,
    "editable": true
   },
   "outputs": [],
   "source": []
  }
 ],
 "metadata": {
  "kernelspec": {
   "display_name": "Python 3",
   "language": "python",
   "name": "python3"
  },
  "language_info": {
   "codemirror_mode": {
    "name": "ipython",
    "version": 3
   },
   "file_extension": ".py",
   "mimetype": "text/x-python",
   "name": "python",
   "nbconvert_exporter": "python",
   "pygments_lexer": "ipython3",
   "version": "3.4.8"
  }
 },
 "nbformat": 4,
 "nbformat_minor": 2
}

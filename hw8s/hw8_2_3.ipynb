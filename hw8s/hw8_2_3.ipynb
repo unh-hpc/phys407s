{
 "cells": [
  {
   "cell_type": "markdown",
   "metadata": {
    "deletable": true,
    "editable": true
   },
   "source": [
    "# HW 8\n",
    "\n",
    "Just generic python setup first, including some helper functions to help with degree-radians conversion, and solving quadratic equations"
   ]
  },
  {
   "cell_type": "code",
   "execution_count": 1,
   "metadata": {
    "collapsed": true,
    "deletable": true,
    "editable": true
   },
   "outputs": [],
   "source": [
    "import numpy as np\n",
    "from numpy import sin, cos, tan, arctan2, sqrt"
   ]
  },
  {
   "cell_type": "code",
   "execution_count": 2,
   "metadata": {
    "collapsed": false,
    "deletable": true,
    "editable": true
   },
   "outputs": [],
   "source": [
    "def rad(th):\n",
    "    return th * np.pi/180\n",
    "\n",
    "def deg(th):\n",
    "    return th * 180/np.pi\n",
    "\n",
    "def quadratic(a, b, c):\n",
    "    return ((-b + sqrt(b**2 - 4*a*c)) / (2*a),\n",
    "            (-b - sqrt(b**2 - 4*a*c)) / (2*a))"
   ]
  },
  {
   "cell_type": "markdown",
   "metadata": {
    "deletable": true,
    "editable": true
   },
   "source": [
    "## Problem 2\n",
    "\n",
    "Given (F = friend, M = me):\n",
    "$$\n",
    "m_M = 150 \\,\\text{kg}, m_F = ?, v_{F,f} = -5 \\,\\text{m/s}, v_{M,f} = 3\\, \\text{m/s}\n",
    "$$\n",
    "and initially both velocities are zero.\n",
    "\n",
    "Momentum for the system of the two canoes is conserved (the external buoyancy and gravity forces cancel out, and the water resistance over the short time of the push can be neglecte). Initial momentum is zero (nothing is moving), so final momentum must be zero, too.\n",
    "$$\n",
    "0 = p_i = p_f = m_M v_{M,f} + m_F v_{F,f} \\Longrightarrow m_F = -\\frac{m_M v_{M,f}}{v_{F,f}}\n",
    "$$"
   ]
  },
  {
   "cell_type": "code",
   "execution_count": 3,
   "metadata": {
    "collapsed": true
   },
   "outputs": [
    {
     "name": "stdout",
     "output_type": "stream",
     "text": [
      "mass of friend = 90.000000 kg\n"
     ]
    }
   ],
   "source": [
    "m_M = 150\n",
    "v_Ff = -5\n",
    "v_Mf = 3\n",
    "\n",
    "m_F = -m_M*v_Mf / v_Ff\n",
    "print(\"mass of friend = {:f} kg\".format(m_F))"
   ]
  },
  {
   "cell_type": "markdown",
   "metadata": {},
   "source": [
    "## Problem 3\n",
    "\n",
    "We uses the masses from before, but we know now that the relative velocity $v_R$ = 6 m/s.\n",
    "Since relative velocity is the difference in velocity\n",
    "$$\n",
    "v_R = v_{M,f} - v_{F,f}\n",
    "$$\n",
    "we'll solve for $v_{M,f} = v_R + v_{F,f}$ and plug that into the same conservation of momentum equation:\n",
    "$$\n",
    "0 = p_i = p_f = m_M v_{M,f} + m_F v_{F,f} = m_M (v_R + v_{F,f}) + m_F v_{F,f}\n",
    "$$\n",
    "Solve for $v_{F,f}$:\n",
    "$$\n",
    "v_{F,f} = - \\frac{m_M v_R}{m_M + m_F}\n",
    "$$\n",
    "and plug it back in to find \n",
    "$$\n",
    "v_{M,f} = v_R + v_{F,f} = \\frac{m_F v_R}{m_M + m_F}\n",
    "$$\n"
   ]
  },
  {
   "cell_type": "code",
   "execution_count": 4,
   "metadata": {},
   "outputs": [
    {
     "name": "stdout",
     "output_type": "stream",
     "text": [
      "v_Ff = -3.750000 m/s v_Mf = 2.250000 m/s\n"
     ]
    }
   ],
   "source": [
    "v_R = 6\n",
    "v_Ff = - m_M * v_R / (m_M + m_F)\n",
    "v_Mf =   m_F * v_R / (m_M + m_F)\n",
    "\n",
    "print(\"v_Ff = {:f} m/s v_Mf = {:f} m/s\".format(v_Ff, v_Mf))"
   ]
  },
  {
   "cell_type": "code",
   "execution_count": null,
   "metadata": {},
   "outputs": [],
   "source": []
  }
 ],
 "metadata": {
  "kernelspec": {
   "display_name": "Python 3",
   "language": "python",
   "name": "python3"
  },
  "language_info": {
   "codemirror_mode": {
    "name": "ipython",
    "version": 3
   },
   "file_extension": ".py",
   "mimetype": "text/x-python",
   "name": "python",
   "nbconvert_exporter": "python",
   "pygments_lexer": "ipython3",
   "version": "3.7.1"
  }
 },
 "nbformat": 4,
 "nbformat_minor": 2
}

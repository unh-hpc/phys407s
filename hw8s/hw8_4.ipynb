{
 "cells": [
  {
   "cell_type": "markdown",
   "metadata": {
    "deletable": true,
    "editable": true
   },
   "source": [
    "# HW 8\n",
    "\n",
    "Just generic python setup first, including some helper functions to help with degree-radians conversion, and solving quadratic equations"
   ]
  },
  {
   "cell_type": "code",
   "execution_count": 2,
   "metadata": {
    "collapsed": true,
    "deletable": true,
    "editable": true
   },
   "outputs": [],
   "source": [
    "import numpy as np\n",
    "from numpy import sin, cos, tan, arctan2, sqrt"
   ]
  },
  {
   "cell_type": "code",
   "execution_count": 3,
   "metadata": {
    "collapsed": false,
    "deletable": true,
    "editable": true
   },
   "outputs": [],
   "source": [
    "def rad(th):\n",
    "    return th * np.pi/180\n",
    "\n",
    "def deg(th):\n",
    "    return th * 180/np.pi\n",
    "\n",
    "def quadratic(a, b, c):\n",
    "    return ((-b + sqrt(b**2 - 4*a*c)) / (2*a),\n",
    "            (-b - sqrt(b**2 - 4*a*c)) / (2*a))"
   ]
  },
  {
   "cell_type": "markdown",
   "metadata": {
    "deletable": true,
    "editable": true
   },
   "source": [
    "## Problem 4\n",
    "\n",
    "For most of this problem, we can use conservation of energy. Energy is conserved all the way through the end, actually, but it only tells us about speed but not time or distance, which is needed to figure out where the bus needs to be.\n",
    "\n",
    "Total energy at the start at the top of the hill equals total energy at the top of the loop equals total energy at the top of the ramp (and everywhere else). Since we don't know $H$, we can't really determine the energy at the start directly, and we want to find energy (hence speed $v_f$) at the top of the ramp, so we'll use the top of the loop where we know how high it is ($2r = 10$ m) and can also figure out the speed, since the car is just barely making it around the loop.\n",
    "\n",
    "One should draw a FBD at the top of the loop. Since the car is barely making it, gravity by itself is enough to make it go around the curve (circle), no normal force needed:\n",
    "$$\n",
    "m\\frac{v_T^2}{r} = ma = F_net = mg \\Longrightarrow v_T^2 = rg\n",
    "$$\n",
    "where I use $_T$ for top of the loop. Total energy there is\n",
    "$$\n",
    "E_T = \\frac{1}{2} mv_T^2 + mg(2r) = \\frac{1}{2}mrg + 2rmg = 2.5 rmg\n",
    "$$\n"
   ]
  },
  {
   "cell_type": "markdown",
   "metadata": {},
   "source": [
    "At the top of the ramp ($_R$), the car also has kinetic and potential energy, but the height there is $h_R = 5$ m.\n",
    "$$\n",
    "E_R = \\frac{1}{2}mv_R^2 + mgh_R\n",
    "$$\n",
    "Conservation of energy\n",
    "$$\n",
    "E_T = E_R \\Longrightarrow 2.5rmg = \\frac{1}{2}mv_R^2 + mgh_R \\Longrightarrow v_R = \\sqrt{2.5rg - gh_R}\n",
    "$$"
   ]
  },
  {
   "cell_type": "code",
   "execution_count": 5,
   "metadata": {},
   "outputs": [
    {
     "name": "stdout",
     "output_type": "stream",
     "text": [
      "v_R = 8.573214\n"
     ]
    }
   ],
   "source": [
    "r = 5\n",
    "h_R = 5\n",
    "g = 9.8\n",
    "v_R = sqrt(2.5*r*g - g*h_R)\n",
    "print(\"v_R = {:f}\".format(v_R))"
   ]
  },
  {
   "cell_type": "markdown",
   "metadata": {},
   "source": [
    "\n",
    "For the last part, we'll have to do kinematics / projectile motion. I'll rename $v_R$ to $v_0$ here, since that's how we usually call the initial velocity. I know the magnitude, and the angle is $\\theta = 30^\\circ$, so I can find the components:\n",
    "$$\n",
    "v_{0x} = v_0\\cos\\theta,\\qquad v_{0y} = v_0\\sin\\theta\n",
    "$$\n"
   ]
  },
  {
   "cell_type": "markdown",
   "metadata": {},
   "source": [
    "I want to know $L = x(t_f) = v_{0x} t_f$, but I first have to find $t_f$ when the car gets back down to $y_f = 4$ m.\n",
    "$$\n",
    "y_f = y(t_f) = -\\frac{1}{2} g t_f^2 + v_{0y}t_f + y_0\n",
    "$$\n",
    "where $y_0 = h_R = 5$ m. To find $t_f$, I actually need to solve the quadratic equation\n",
    "$$\n",
    "0 = -\\frac{1}{2} g t_f^2 + v_{0y}t_f + y_0 - y_f\n",
    "$$"
   ]
  },
  {
   "cell_type": "code",
   "execution_count": 11,
   "metadata": {},
   "outputs": [
    {
     "name": "stdout",
     "output_type": "stream",
     "text": [
      "tf = -0.191406 s or 1.066224 s\n"
     ]
    }
   ],
   "source": [
    "v0 = v_R\n",
    "theta = rad(30)\n",
    "v0x = v0 * cos(theta)\n",
    "v0y = v0 * sin(theta)\n",
    "y0 = h_R\n",
    "yf = 4\n",
    "\n",
    "a = -.5*g\n",
    "b = v0y\n",
    "c = y0 - yf\n",
    "tfs = quadratic(a, b, c)\n",
    "print(\"tf = {:f} s or {:f} s\".format(*tfs))"
   ]
  },
  {
   "cell_type": "markdown",
   "metadata": {},
   "source": [
    "We of course want the positive solution and plug it into \n",
    "$$\n",
    "L = v_{0x} t_f\n",
    "$$"
   ]
  },
  {
   "cell_type": "code",
   "execution_count": 12,
   "metadata": {},
   "outputs": [
    {
     "name": "stdout",
     "output_type": "stream",
     "text": [
      "L = 7.916308 m\n"
     ]
    }
   ],
   "source": [
    "tf = tfs[1]\n",
    "L = v0x * tf\n",
    "print(\"L = {:f} m\".format(L))"
   ]
  },
  {
   "cell_type": "code",
   "execution_count": null,
   "metadata": {},
   "outputs": [],
   "source": []
  }
 ],
 "metadata": {
  "kernelspec": {
   "display_name": "Python 3",
   "language": "python",
   "name": "python3"
  },
  "language_info": {
   "codemirror_mode": {
    "name": "ipython",
    "version": 3
   },
   "file_extension": ".py",
   "mimetype": "text/x-python",
   "name": "python",
   "nbconvert_exporter": "python",
   "pygments_lexer": "ipython3",
   "version": "3.7.1"
  }
 },
 "nbformat": 4,
 "nbformat_minor": 2
}
